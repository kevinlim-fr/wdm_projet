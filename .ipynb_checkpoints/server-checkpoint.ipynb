{
 "cells": [
  {
   "cell_type": "code",
   "execution_count": null,
   "id": "complicated-accident",
   "metadata": {},
   "outputs": [],
   "source": [
    "# https://pypi.org/project/requests/"
   ]
  },
  {
   "cell_type": "code",
   "execution_count": 5,
   "id": "excessive-cooperative",
   "metadata": {},
   "outputs": [],
   "source": [
    "import requests\n",
    "import math"
   ]
  },
  {
   "cell_type": "code",
   "execution_count": 6,
   "id": "valid-christianity",
   "metadata": {},
   "outputs": [],
   "source": [
    "def getCoordinates(adresse):\n",
    "    adresse = adresse.replace(\" \",\"+\")\n",
    "    requete = \"https://api-adresse.data.gouv.fr/search/?q=\"+adresse\n",
    "    response = requests.get(requete)\n",
    "    json = response.json()\n",
    "    lat = json[\"features\"][0][\"geometry\"][\"coordinates\"][1]\n",
    "    lon = json[\"features\"][0][\"geometry\"][\"coordinates\"][0]\n",
    "    return lat,lon"
   ]
  },
  {
   "cell_type": "code",
   "execution_count": 7,
   "id": "retired-brief",
   "metadata": {},
   "outputs": [],
   "source": [
    "def convRadiusKM(radius_km):\n",
    "    return math.pow(radius_km/111.1949,2)"
   ]
  },
  {
   "cell_type": "markdown",
   "id": "fluid-purpose",
   "metadata": {},
   "source": [
    "# Main"
   ]
  },
  {
   "cell_type": "code",
   "execution_count": 117,
   "id": "sized-council",
   "metadata": {},
   "outputs": [
    {
     "name": "stdin",
     "output_type": "stream",
     "text": [
      "Veuillez saisir une adresse comlète.ex: 10 rue de Paris Paris 75001 \n",
      "  \n"
     ]
    }
   ],
   "source": [
    "adresse = input(\"Veuillez saisir une adresse comlète.ex: 10 rue de Paris Paris 75001 \\n\").replace(\" \",\"+\")\n",
    "lat, lon = getCoordinates(adresse)\n",
    "radius_km = int(input(\"Saisir la portée en km\"))\n",
    "radius_degree = convRadiusKM(radius_km)"
   ]
  },
  {
   "cell_type": "markdown",
   "id": "bottom-antique",
   "metadata": {},
   "source": [
    "### Testing"
   ]
  },
  {
   "cell_type": "code",
   "execution_count": 47,
   "id": "sexual-metro",
   "metadata": {},
   "outputs": [
    {
     "data": {
      "text/plain": [
       "0.008087797384722423"
      ]
     },
     "execution_count": 47,
     "metadata": {},
     "output_type": "execute_result"
    }
   ],
   "source": [
    "adresse = \"5 Rue de l'Horloge, 35000 Rennes\"\n",
    "lat, lon = getCoordinates(adresse)\n",
    "radius_km = 10\n",
    "radius_degree = convRadiusKM(radius_km)\n",
    "phi = round(lat)\n",
    "val1 = math.cos(phi)*math.sin(phi)* math.pi/180\n",
    "print(val1)\n",
    "val2 = math.cos(phi)*(math.cos(phi) - math.sin(phi)* math.pi/180 * (lat-2*phi))\n",
    "print(val2)"
   ]
  },
  {
   "cell_type": "markdown",
   "id": "backed-latin",
   "metadata": {},
   "source": [
    "### Query building"
   ]
  },
  {
   "cell_type": "code",
   "execution_count": 152,
   "id": "supreme-flour",
   "metadata": {},
   "outputs": [],
   "source": [
    "PREFIX = \"PREFIX ns: <http://schema.org/> PREFIX rdf: <http://www.w3.org/1999/02/22-rdf-syntax-ns#>  PREFIX rdfs:<http://www.w3.org/2001/XMLSchema#> PREFIX owl: <http://www.owl-ontologies.com/unnamed.owl#>\""
   ]
  },
  {
   "cell_type": "code",
   "execution_count": 153,
   "id": "ongoing-livestock",
   "metadata": {},
   "outputs": [],
   "source": [
    "FILTER = \"FILTER ((\"+str(lat)+\"-?lat)*(\"+str(lat)+\"-?lat) + (\"+str(lon)+\"-?long)*(\"+str(lon)+\"-?long)*(\"+str(val2)+\"-(\"+str(val1)+\"*?lat)) < \"+str(radius_degree)+\")}\""
   ]
  },
  {
   "cell_type": "code",
   "execution_count": 154,
   "id": "unauthorized-exception",
   "metadata": {},
   "outputs": [],
   "source": [
    "requete = \"SELECT ?ville ?name ?available_bikes ?available_bikes_stands ?bike_stands ?lat ?long ?place WHERE { \" \\\n",
    "\"?station rdf:type ns:station . ?station ns:name ?name . ?station ns:ville ?ville . ?station ns:available_bikes ?available_bikes . \"  \\\n",
    "\"?station ns:available_bikes_stands ?available_bikes_stands . ?station ns:long ?long . ?station ns:lat ?lat . ?station ns:place ?place . \""
   ]
  },
  {
   "cell_type": "code",
   "execution_count": 155,
   "id": "manufactured-newspaper",
   "metadata": {},
   "outputs": [],
   "source": [
    "sparql_query = PREFIX + requete + FILTER"
   ]
  },
  {
   "cell_type": "code",
   "execution_count": 156,
   "id": "russian-ferry",
   "metadata": {},
   "outputs": [
    {
     "data": {
      "text/plain": [
       "'PREFIX ns: <http://schema.org/> PREFIX rdf: <http://www.w3.org/1999/02/22-rdf-syntax-ns#>  PREFIX rdfs:<http://www.w3.org/2001/XMLSchema#> PREFIX owl: <http://www.owl-ontologies.com/unnamed.owl#>SELECT ?ville ?name ?available_bikes ?available_bikes_stands ?bike_stands ?lat ?long ?place WHERE { ?station rdf:type ns:station . ?station ns:name ?name .?station ns:ville ?ville . ?station ns:available_bikes ?available_bikes . ?station ns:available_bikes_stands ?available_bikes_stands . ?station ns:long ?long . ?station ns:lat ?lat . ?station ns:place ?place .} FILTER ((45.759368-?lat)*(45.759368-?lat) + (4.8163135-?long)*(4.8163135-?long)*(-0.1277567672312683-(-0.006802124661187562*?lat)) < 0.008087797384722423)}'"
      ]
     },
     "execution_count": 156,
     "metadata": {},
     "output_type": "execute_result"
    }
   ],
   "source": [
    "sparql_query"
   ]
  },
  {
   "cell_type": "code",
   "execution_count": 147,
   "id": "recognized-juvenile",
   "metadata": {},
   "outputs": [],
   "source": [
    "import urllib\n",
    "sparql_query = urllib.parse.quote(sparql_query, safe='')"
   ]
  },
  {
   "cell_type": "markdown",
   "id": "proud-guess",
   "metadata": {},
   "source": [
    "resultat_json = response.json()"
   ]
  },
  {
   "cell_type": "code",
   "execution_count": 148,
   "id": "organic-bullet",
   "metadata": {},
   "outputs": [
    {
     "ename": "NameError",
     "evalue": "name 'resultat_json' is not defined",
     "output_type": "error",
     "traceback": [
      "\u001b[0;31m---------------------------------------------------------------------------\u001b[0m",
      "\u001b[0;31mNameError\u001b[0m                                 Traceback (most recent call last)",
      "\u001b[0;32m<ipython-input-148-391f12205474>\u001b[0m in \u001b[0;36m<module>\u001b[0;34m\u001b[0m\n\u001b[0;32m----> 1\u001b[0;31m \u001b[0mresultat_json\u001b[0m\u001b[0;34m[\u001b[0m\u001b[0;34m\"results\"\u001b[0m\u001b[0;34m]\u001b[0m\u001b[0;34m\u001b[0m\u001b[0;34m\u001b[0m\u001b[0m\n\u001b[0m",
      "\u001b[0;31mNameError\u001b[0m: name 'resultat_json' is not defined"
     ]
    }
   ],
   "source": [
    "resultat_json[\"results\"]"
   ]
  },
  {
   "cell_type": "code",
   "execution_count": 151,
   "id": "coordinate-hawaiian",
   "metadata": {},
   "outputs": [
    {
     "data": {
      "text/plain": [
       "'http://localhost:3030/db/sparql?query=PREFIX%20ns%3A%20%3Chttp%3A%2F%2Fschema.org%2F%3E%20PREFIX%20rdf%3A%20%3Chttp%3A%2F%2Fwww.w3.org%2F1999%2F02%2F22-rdf-syntax-ns%23%3E%20%20PREFIX%20rdfs%3A%3Chttp%3A%2F%2Fwww.w3.org%2F2001%2FXMLSchema%23%3E%20PREFIX%20owl%3A%20%3Chttp%3A%2F%2Fwww.owl-ontologies.com%2Funnamed.owl%23%3ESELECT%20%3Fville%20%3Fname%20%3Favailable_bikes%20%3Favailable_bikes_stands%20%3Fbike_stands%20%3Flat%20%3Flong%20%3Fplace%20WHERE%20%7B%20%3Fstation%20rdf%3Atype%20ns%3Astation%20.%20%3Fstation%20ns%3Aname%20%3Fname%20.%3Fstation%20ns%3Aville%20%3Fville%20.%20%3Fstation%20ns%3Aavailable_bikes%20%3Favailable_bikes%20.%20%3Fstation%20ns%3Aavailable_bikes_stands%20%3Favailable_bikes_stands%20.%20%3Fstation%20ns%3Along%20%3Flong%20.%20%3Fstation%20ns%3Alat%20%3Flat%20.%20%3Fstation%20ns%3Aplace%20%3Fplace%20.%7D%20FILTER%20%28%2845.759368-%3Flat%29%2A%2845.759368-%3Flat%29%20%2B%20%284.8163135-%3Flong%29%2A%284.8163135-%3Flong%29%2A%28-0.1277567672312683-%28-0.006802124661187562%2A%3Flat%29%29%20%3C%200.008087797384722423%29%7D'"
      ]
     },
     "execution_count": 151,
     "metadata": {},
     "output_type": "execute_result"
    }
   ],
   "source": [
    "url"
   ]
  },
  {
   "cell_type": "code",
   "execution_count": 150,
   "id": "adjusted-referral",
   "metadata": {},
   "outputs": [
    {
     "ename": "JSONDecodeError",
     "evalue": "Expecting value: line 1 column 1 (char 0)",
     "output_type": "error",
     "traceback": [
      "\u001b[0;31m---------------------------------------------------------------------------\u001b[0m",
      "\u001b[0;31mJSONDecodeError\u001b[0m                           Traceback (most recent call last)",
      "\u001b[0;32m<ipython-input-150-e68c8da4c01c>\u001b[0m in \u001b[0;36m<module>\u001b[0;34m\u001b[0m\n\u001b[1;32m      1\u001b[0m \u001b[0murl\u001b[0m \u001b[0;34m=\u001b[0m \u001b[0;34m\"http://localhost:3030/db/sparql?query=\"\u001b[0m\u001b[0;34m+\u001b[0m\u001b[0msparql_query\u001b[0m\u001b[0;34m\u001b[0m\u001b[0;34m\u001b[0m\u001b[0m\n\u001b[1;32m      2\u001b[0m \u001b[0mresponse\u001b[0m \u001b[0;34m=\u001b[0m \u001b[0mrequests\u001b[0m\u001b[0;34m.\u001b[0m\u001b[0mget\u001b[0m\u001b[0;34m(\u001b[0m\u001b[0murl\u001b[0m\u001b[0;34m)\u001b[0m\u001b[0;34m\u001b[0m\u001b[0;34m\u001b[0m\u001b[0m\n\u001b[0;32m----> 3\u001b[0;31m \u001b[0mresponse\u001b[0m\u001b[0;34m.\u001b[0m\u001b[0mjson\u001b[0m\u001b[0;34m(\u001b[0m\u001b[0;34m)\u001b[0m\u001b[0;34m\u001b[0m\u001b[0;34m\u001b[0m\u001b[0m\n\u001b[0m",
      "\u001b[0;32m/Library/Frameworks/Python.framework/Versions/3.9/lib/python3.9/site-packages/requests/models.py\u001b[0m in \u001b[0;36mjson\u001b[0;34m(self, **kwargs)\u001b[0m\n\u001b[1;32m    898\u001b[0m                     \u001b[0;31m# used.\u001b[0m\u001b[0;34m\u001b[0m\u001b[0;34m\u001b[0m\u001b[0;34m\u001b[0m\u001b[0m\n\u001b[1;32m    899\u001b[0m                     \u001b[0;32mpass\u001b[0m\u001b[0;34m\u001b[0m\u001b[0;34m\u001b[0m\u001b[0m\n\u001b[0;32m--> 900\u001b[0;31m         \u001b[0;32mreturn\u001b[0m \u001b[0mcomplexjson\u001b[0m\u001b[0;34m.\u001b[0m\u001b[0mloads\u001b[0m\u001b[0;34m(\u001b[0m\u001b[0mself\u001b[0m\u001b[0;34m.\u001b[0m\u001b[0mtext\u001b[0m\u001b[0;34m,\u001b[0m \u001b[0;34m**\u001b[0m\u001b[0mkwargs\u001b[0m\u001b[0;34m)\u001b[0m\u001b[0;34m\u001b[0m\u001b[0;34m\u001b[0m\u001b[0m\n\u001b[0m\u001b[1;32m    901\u001b[0m \u001b[0;34m\u001b[0m\u001b[0m\n\u001b[1;32m    902\u001b[0m     \u001b[0;34m@\u001b[0m\u001b[0mproperty\u001b[0m\u001b[0;34m\u001b[0m\u001b[0;34m\u001b[0m\u001b[0m\n",
      "\u001b[0;32m/Library/Frameworks/Python.framework/Versions/3.9/lib/python3.9/site-packages/simplejson/__init__.py\u001b[0m in \u001b[0;36mloads\u001b[0;34m(s, encoding, cls, object_hook, parse_float, parse_int, parse_constant, object_pairs_hook, use_decimal, **kw)\u001b[0m\n\u001b[1;32m    523\u001b[0m             \u001b[0mparse_constant\u001b[0m \u001b[0;32mis\u001b[0m \u001b[0;32mNone\u001b[0m \u001b[0;32mand\u001b[0m \u001b[0mobject_pairs_hook\u001b[0m \u001b[0;32mis\u001b[0m \u001b[0;32mNone\u001b[0m\u001b[0;34m\u001b[0m\u001b[0;34m\u001b[0m\u001b[0m\n\u001b[1;32m    524\u001b[0m             and not use_decimal and not kw):\n\u001b[0;32m--> 525\u001b[0;31m         \u001b[0;32mreturn\u001b[0m \u001b[0m_default_decoder\u001b[0m\u001b[0;34m.\u001b[0m\u001b[0mdecode\u001b[0m\u001b[0;34m(\u001b[0m\u001b[0ms\u001b[0m\u001b[0;34m)\u001b[0m\u001b[0;34m\u001b[0m\u001b[0;34m\u001b[0m\u001b[0m\n\u001b[0m\u001b[1;32m    526\u001b[0m     \u001b[0;32mif\u001b[0m \u001b[0mcls\u001b[0m \u001b[0;32mis\u001b[0m \u001b[0;32mNone\u001b[0m\u001b[0;34m:\u001b[0m\u001b[0;34m\u001b[0m\u001b[0;34m\u001b[0m\u001b[0m\n\u001b[1;32m    527\u001b[0m         \u001b[0mcls\u001b[0m \u001b[0;34m=\u001b[0m \u001b[0mJSONDecoder\u001b[0m\u001b[0;34m\u001b[0m\u001b[0;34m\u001b[0m\u001b[0m\n",
      "\u001b[0;32m/Library/Frameworks/Python.framework/Versions/3.9/lib/python3.9/site-packages/simplejson/decoder.py\u001b[0m in \u001b[0;36mdecode\u001b[0;34m(self, s, _w, _PY3)\u001b[0m\n\u001b[1;32m    368\u001b[0m         \u001b[0;32mif\u001b[0m \u001b[0m_PY3\u001b[0m \u001b[0;32mand\u001b[0m \u001b[0misinstance\u001b[0m\u001b[0;34m(\u001b[0m\u001b[0ms\u001b[0m\u001b[0;34m,\u001b[0m \u001b[0mbytes\u001b[0m\u001b[0;34m)\u001b[0m\u001b[0;34m:\u001b[0m\u001b[0;34m\u001b[0m\u001b[0;34m\u001b[0m\u001b[0m\n\u001b[1;32m    369\u001b[0m             \u001b[0ms\u001b[0m \u001b[0;34m=\u001b[0m \u001b[0mstr\u001b[0m\u001b[0;34m(\u001b[0m\u001b[0ms\u001b[0m\u001b[0;34m,\u001b[0m \u001b[0mself\u001b[0m\u001b[0;34m.\u001b[0m\u001b[0mencoding\u001b[0m\u001b[0;34m)\u001b[0m\u001b[0;34m\u001b[0m\u001b[0;34m\u001b[0m\u001b[0m\n\u001b[0;32m--> 370\u001b[0;31m         \u001b[0mobj\u001b[0m\u001b[0;34m,\u001b[0m \u001b[0mend\u001b[0m \u001b[0;34m=\u001b[0m \u001b[0mself\u001b[0m\u001b[0;34m.\u001b[0m\u001b[0mraw_decode\u001b[0m\u001b[0;34m(\u001b[0m\u001b[0ms\u001b[0m\u001b[0;34m)\u001b[0m\u001b[0;34m\u001b[0m\u001b[0;34m\u001b[0m\u001b[0m\n\u001b[0m\u001b[1;32m    371\u001b[0m         \u001b[0mend\u001b[0m \u001b[0;34m=\u001b[0m \u001b[0m_w\u001b[0m\u001b[0;34m(\u001b[0m\u001b[0ms\u001b[0m\u001b[0;34m,\u001b[0m \u001b[0mend\u001b[0m\u001b[0;34m)\u001b[0m\u001b[0;34m.\u001b[0m\u001b[0mend\u001b[0m\u001b[0;34m(\u001b[0m\u001b[0;34m)\u001b[0m\u001b[0;34m\u001b[0m\u001b[0;34m\u001b[0m\u001b[0m\n\u001b[1;32m    372\u001b[0m         \u001b[0;32mif\u001b[0m \u001b[0mend\u001b[0m \u001b[0;34m!=\u001b[0m \u001b[0mlen\u001b[0m\u001b[0;34m(\u001b[0m\u001b[0ms\u001b[0m\u001b[0;34m)\u001b[0m\u001b[0;34m:\u001b[0m\u001b[0;34m\u001b[0m\u001b[0;34m\u001b[0m\u001b[0m\n",
      "\u001b[0;32m/Library/Frameworks/Python.framework/Versions/3.9/lib/python3.9/site-packages/simplejson/decoder.py\u001b[0m in \u001b[0;36mraw_decode\u001b[0;34m(self, s, idx, _w, _PY3)\u001b[0m\n\u001b[1;32m    398\u001b[0m             \u001b[0;32melif\u001b[0m \u001b[0mord0\u001b[0m \u001b[0;34m==\u001b[0m \u001b[0;36m0xef\u001b[0m \u001b[0;32mand\u001b[0m \u001b[0ms\u001b[0m\u001b[0;34m[\u001b[0m\u001b[0midx\u001b[0m\u001b[0;34m:\u001b[0m\u001b[0midx\u001b[0m \u001b[0;34m+\u001b[0m \u001b[0;36m3\u001b[0m\u001b[0;34m]\u001b[0m \u001b[0;34m==\u001b[0m \u001b[0;34m'\\xef\\xbb\\xbf'\u001b[0m\u001b[0;34m:\u001b[0m\u001b[0;34m\u001b[0m\u001b[0;34m\u001b[0m\u001b[0m\n\u001b[1;32m    399\u001b[0m                 \u001b[0midx\u001b[0m \u001b[0;34m+=\u001b[0m \u001b[0;36m3\u001b[0m\u001b[0;34m\u001b[0m\u001b[0;34m\u001b[0m\u001b[0m\n\u001b[0;32m--> 400\u001b[0;31m         \u001b[0;32mreturn\u001b[0m \u001b[0mself\u001b[0m\u001b[0;34m.\u001b[0m\u001b[0mscan_once\u001b[0m\u001b[0;34m(\u001b[0m\u001b[0ms\u001b[0m\u001b[0;34m,\u001b[0m \u001b[0midx\u001b[0m\u001b[0;34m=\u001b[0m\u001b[0m_w\u001b[0m\u001b[0;34m(\u001b[0m\u001b[0ms\u001b[0m\u001b[0;34m,\u001b[0m \u001b[0midx\u001b[0m\u001b[0;34m)\u001b[0m\u001b[0;34m.\u001b[0m\u001b[0mend\u001b[0m\u001b[0;34m(\u001b[0m\u001b[0;34m)\u001b[0m\u001b[0;34m)\u001b[0m\u001b[0;34m\u001b[0m\u001b[0;34m\u001b[0m\u001b[0m\n\u001b[0m",
      "\u001b[0;31mJSONDecodeError\u001b[0m: Expecting value: line 1 column 1 (char 0)"
     ]
    }
   ],
   "source": [
    "url = \"http://localhost:3030/db/sparql?query=\"+sparql_query\n",
    "response = requests.get(url)\n",
    "response.json()"
   ]
  },
  {
   "cell_type": "code",
   "execution_count": null,
   "id": "atmospheric-cartridge",
   "metadata": {},
   "outputs": [],
   "source": []
  },
  {
   "cell_type": "code",
   "execution_count": 142,
   "id": "desperate-austin",
   "metadata": {},
   "outputs": [],
   "source": [
    "# https://pypi.org/project/sparql-client/"
   ]
  },
  {
   "cell_type": "code",
   "execution_count": 35,
   "id": "suburban-devices",
   "metadata": {},
   "outputs": [],
   "source": [
    "#cd /Library/Frameworks/Python.framework/Versions/3.9/lib/python3.9/site-packages "
   ]
  },
  {
   "cell_type": "code",
   "execution_count": 59,
   "id": "vital-theology",
   "metadata": {},
   "outputs": [],
   "source": []
  }
 ],
 "metadata": {
  "kernelspec": {
   "display_name": "Python 3",
   "language": "python",
   "name": "python3"
  },
  "language_info": {
   "codemirror_mode": {
    "name": "ipython",
    "version": 3
   },
   "file_extension": ".py",
   "mimetype": "text/x-python",
   "name": "python",
   "nbconvert_exporter": "python",
   "pygments_lexer": "ipython3",
   "version": "3.9.2"
  }
 },
 "nbformat": 4,
 "nbformat_minor": 5
}
