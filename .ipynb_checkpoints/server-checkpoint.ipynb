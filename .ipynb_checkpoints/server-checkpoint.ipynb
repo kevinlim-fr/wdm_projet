{
 "cells": [
  {
   "cell_type": "code",
   "execution_count": null,
   "id": "deluxe-climb",
   "metadata": {},
   "outputs": [],
   "source": [
    "# https://pypi.org/project/requests/"
   ]
  },
  {
   "cell_type": "code",
   "execution_count": 5,
   "id": "victorian-armor",
   "metadata": {},
   "outputs": [],
   "source": [
    "import requests\n",
    "import math"
   ]
  },
  {
   "cell_type": "code",
   "execution_count": 189,
   "id": "institutional-strengthening",
   "metadata": {},
   "outputs": [],
   "source": [
    "def getCoordinates(adresse):\n",
    "    adresse = adresse.replace(\" \",\"+\")\n",
    "    requete = \"https://api-adresse.data.gouv.fr/search/?q=\"+adresse\n",
    "    response = requests.get(requete)\n",
    "    json = response.json()\n",
    "    lat = json[\"features\"][0][\"geometry\"][\"coordinates\"][1]\n",
    "    lon = json[\"features\"][0][\"geometry\"][\"coordinates\"][0]\n",
    "    return lat,lon"
   ]
  },
  {
   "cell_type": "code",
   "execution_count": 190,
   "id": "comfortable-foundation",
   "metadata": {},
   "outputs": [],
   "source": [
    "def convRadiusKM(radius_km):\n",
    "    return math.pow(radius_km/111.1949,2)"
   ]
  },
  {
   "cell_type": "markdown",
   "id": "super-portal",
   "metadata": {},
   "source": [
    "# Main"
   ]
  },
  {
   "cell_type": "code",
   "execution_count": 192,
   "id": "duplicate-partnership",
   "metadata": {},
   "outputs": [
    {
     "name": "stdin",
     "output_type": "stream",
     "text": [
      "Veuillez saisir une adresse comlète.ex: 10 rue de Paris Paris 75001 \n",
      "  \n"
     ]
    },
    {
     "ename": "IndexError",
     "evalue": "list index out of range",
     "output_type": "error",
     "traceback": [
      "\u001b[0;31m---------------------------------------------------------------------------\u001b[0m",
      "\u001b[0;31mIndexError\u001b[0m                                Traceback (most recent call last)",
      "\u001b[0;32m<ipython-input-192-b166d9a6175e>\u001b[0m in \u001b[0;36m<module>\u001b[0;34m\u001b[0m\n\u001b[1;32m      1\u001b[0m \u001b[0madresse\u001b[0m \u001b[0;34m=\u001b[0m \u001b[0minput\u001b[0m\u001b[0;34m(\u001b[0m\u001b[0;34m\"Veuillez saisir une adresse comlète.ex: 10 rue de Paris Paris 75001 \\n\"\u001b[0m\u001b[0;34m)\u001b[0m\u001b[0;34m.\u001b[0m\u001b[0mreplace\u001b[0m\u001b[0;34m(\u001b[0m\u001b[0;34m\" \"\u001b[0m\u001b[0;34m,\u001b[0m\u001b[0;34m\"+\"\u001b[0m\u001b[0;34m)\u001b[0m\u001b[0;34m\u001b[0m\u001b[0;34m\u001b[0m\u001b[0m\n\u001b[0;32m----> 2\u001b[0;31m \u001b[0mlat\u001b[0m\u001b[0;34m,\u001b[0m \u001b[0mlon\u001b[0m \u001b[0;34m=\u001b[0m \u001b[0mgetCoordinates\u001b[0m\u001b[0;34m(\u001b[0m\u001b[0madresse\u001b[0m\u001b[0;34m)\u001b[0m\u001b[0;34m\u001b[0m\u001b[0;34m\u001b[0m\u001b[0m\n\u001b[0m\u001b[1;32m      3\u001b[0m \u001b[0mradius_km\u001b[0m \u001b[0;34m=\u001b[0m \u001b[0mint\u001b[0m\u001b[0;34m(\u001b[0m\u001b[0minput\u001b[0m\u001b[0;34m(\u001b[0m\u001b[0;34m\"Saisir la portée en km\"\u001b[0m\u001b[0;34m)\u001b[0m\u001b[0;34m)\u001b[0m\u001b[0;34m\u001b[0m\u001b[0;34m\u001b[0m\u001b[0m\n\u001b[1;32m      4\u001b[0m \u001b[0mradius_degree\u001b[0m \u001b[0;34m=\u001b[0m \u001b[0mconvRadiusKM\u001b[0m\u001b[0;34m(\u001b[0m\u001b[0mradius_km\u001b[0m\u001b[0;34m)\u001b[0m\u001b[0;34m\u001b[0m\u001b[0;34m\u001b[0m\u001b[0m\n",
      "\u001b[0;32m<ipython-input-189-81a3ff562c1a>\u001b[0m in \u001b[0;36mgetCoordinates\u001b[0;34m(adresse)\u001b[0m\n\u001b[1;32m      4\u001b[0m     \u001b[0mresponse\u001b[0m \u001b[0;34m=\u001b[0m \u001b[0mrequests\u001b[0m\u001b[0;34m.\u001b[0m\u001b[0mget\u001b[0m\u001b[0;34m(\u001b[0m\u001b[0mrequete\u001b[0m\u001b[0;34m)\u001b[0m\u001b[0;34m\u001b[0m\u001b[0;34m\u001b[0m\u001b[0m\n\u001b[1;32m      5\u001b[0m     \u001b[0mjson\u001b[0m \u001b[0;34m=\u001b[0m \u001b[0mresponse\u001b[0m\u001b[0;34m.\u001b[0m\u001b[0mjson\u001b[0m\u001b[0;34m(\u001b[0m\u001b[0;34m)\u001b[0m\u001b[0;34m\u001b[0m\u001b[0;34m\u001b[0m\u001b[0m\n\u001b[0;32m----> 6\u001b[0;31m     \u001b[0mlat\u001b[0m \u001b[0;34m=\u001b[0m \u001b[0mjson\u001b[0m\u001b[0;34m[\u001b[0m\u001b[0;34m\"features\"\u001b[0m\u001b[0;34m]\u001b[0m\u001b[0;34m[\u001b[0m\u001b[0;36m0\u001b[0m\u001b[0;34m]\u001b[0m\u001b[0;34m[\u001b[0m\u001b[0;34m\"geometry\"\u001b[0m\u001b[0;34m]\u001b[0m\u001b[0;34m[\u001b[0m\u001b[0;34m\"coordinates\"\u001b[0m\u001b[0;34m]\u001b[0m\u001b[0;34m[\u001b[0m\u001b[0;36m1\u001b[0m\u001b[0;34m]\u001b[0m\u001b[0;34m\u001b[0m\u001b[0;34m\u001b[0m\u001b[0m\n\u001b[0m\u001b[1;32m      7\u001b[0m     \u001b[0mlon\u001b[0m \u001b[0;34m=\u001b[0m \u001b[0mjson\u001b[0m\u001b[0;34m[\u001b[0m\u001b[0;34m\"features\"\u001b[0m\u001b[0;34m]\u001b[0m\u001b[0;34m[\u001b[0m\u001b[0;36m0\u001b[0m\u001b[0;34m]\u001b[0m\u001b[0;34m[\u001b[0m\u001b[0;34m\"geometry\"\u001b[0m\u001b[0;34m]\u001b[0m\u001b[0;34m[\u001b[0m\u001b[0;34m\"coordinates\"\u001b[0m\u001b[0;34m]\u001b[0m\u001b[0;34m[\u001b[0m\u001b[0;36m0\u001b[0m\u001b[0;34m]\u001b[0m\u001b[0;34m\u001b[0m\u001b[0;34m\u001b[0m\u001b[0m\n\u001b[1;32m      8\u001b[0m     \u001b[0;32mreturn\u001b[0m \u001b[0mlat\u001b[0m\u001b[0;34m,\u001b[0m\u001b[0mlon\u001b[0m\u001b[0;34m\u001b[0m\u001b[0;34m\u001b[0m\u001b[0m\n",
      "\u001b[0;31mIndexError\u001b[0m: list index out of range"
     ]
    }
   ],
   "source": [
    "adresse = input(\"Veuillez saisir une adresse comlète.ex: 10 rue de Paris Paris 75001 \\n\").replace(\" \",\"+\")\n",
    "lat, lon = getCoordinates(adresse)\n",
    "radius_km = int(input(\"Saisir la portée en km\"))\n",
    "radius_degree = convRadiusKM(radius_km)"
   ]
  },
  {
   "cell_type": "markdown",
   "id": "blank-listening",
   "metadata": {},
   "source": [
    "### Testing"
   ]
  },
  {
   "cell_type": "code",
   "execution_count": 193,
   "id": "arranged-modeling",
   "metadata": {},
   "outputs": [
    {
     "name": "stdout",
     "output_type": "stream",
     "text": [
      "0.00858342232004857\n",
      "0.8208332568911848\n"
     ]
    }
   ],
   "source": [
    "adresse = \"5 Rue de l'Horloge, 35000 Rennes\"\n",
    "lat, lon = getCoordinates(adresse)\n",
    "radius_km = 10\n",
    "radius_degree = convRadiusKM(radius_km)\n",
    "phi = round(lat)\n",
    "val1 = math.cos(phi)*math.sin(phi)* math.pi/180\n",
    "print(val1)\n",
    "val2 = math.cos(phi)*(math.cos(phi) - math.sin(phi)* math.pi/180 * (lat-2*phi))\n",
    "print(val2)"
   ]
  },
  {
   "cell_type": "markdown",
   "id": "personalized-coverage",
   "metadata": {},
   "source": [
    "### Query building"
   ]
  },
  {
   "cell_type": "code",
   "execution_count": 194,
   "id": "effective-giant",
   "metadata": {},
   "outputs": [],
   "source": [
    "PREFIX = \"PREFIX ns: <http://schema.org/> PREFIX rdf: <http://www.w3.org/1999/02/22-rdf-syntax-ns#>  PREFIX rdfs:<http://www.w3.org/2001/XMLSchema#> PREFIX owl: <http://www.owl-ontologies.com/unnamed.owl#>\""
   ]
  },
  {
   "cell_type": "code",
   "execution_count": 195,
   "id": "empirical-counter",
   "metadata": {},
   "outputs": [],
   "source": [
    "FILTER = \"FILTER ((\"+str(lat)+\"-?lat)*(\"+str(lat)+\"-?lat) + (\"+str(lon)+\"-?long)*(\"+str(lon)+\"-?long)*(\"+str(val2)+\"-(\"+str(val1)+\"*?lat)) < \"+str(radius_degree)+\")}\""
   ]
  },
  {
   "cell_type": "code",
   "execution_count": 196,
   "id": "peripheral-peninsula",
   "metadata": {},
   "outputs": [],
   "source": [
    "requete = \"SELECT ?ville ?name ?available_bikes ?available_bikes_stands ?bike_stands ?lat ?long ?place WHERE { \" \\\n",
    "\"?station rdf:type ns:station . ?station ns:name ?name . ?station ns:ville ?ville . ?station ns:available_bikes ?available_bikes . \"  \\\n",
    "\"?station ns:available_bikes_stands ?available_bikes_stands . ?station ns:long ?long . ?station ns:lat ?lat . ?station ns:place ?place . \""
   ]
  },
  {
   "cell_type": "code",
   "execution_count": 197,
   "id": "incredible-ticket",
   "metadata": {},
   "outputs": [],
   "source": [
    "sparql_query = PREFIX + requete + FILTER"
   ]
  },
  {
   "cell_type": "code",
   "execution_count": 198,
   "id": "colored-tribute",
   "metadata": {},
   "outputs": [
    {
     "data": {
      "text/plain": [
       "'PREFIX ns: <http://schema.org/> PREFIX rdf: <http://www.w3.org/1999/02/22-rdf-syntax-ns#>  PREFIX rdfs:<http://www.w3.org/2001/XMLSchema#> PREFIX owl: <http://www.owl-ontologies.com/unnamed.owl#>SELECT ?ville ?name ?available_bikes ?available_bikes_stands ?bike_stands ?lat ?long ?place WHERE { ?station rdf:type ns:station . ?station ns:name ?name . ?station ns:ville ?ville . ?station ns:available_bikes ?available_bikes . ?station ns:available_bikes_stands ?available_bikes_stands . ?station ns:long ?long . ?station ns:lat ?lat . ?station ns:place ?place . FILTER ((48.111353-?lat)*(48.111353-?lat) + (-1.680345-?long)*(-1.680345-?long)*(0.8208332568911848-(0.00858342232004857*?lat)) < 0.008087797384722423)}'"
      ]
     },
     "execution_count": 198,
     "metadata": {},
     "output_type": "execute_result"
    }
   ],
   "source": [
    "sparql_query"
   ]
  },
  {
   "cell_type": "code",
   "execution_count": 199,
   "id": "challenging-donna",
   "metadata": {},
   "outputs": [],
   "source": [
    "import urllib\n"
   ]
  },
  {
   "cell_type": "markdown",
   "id": "mathematical-signature",
   "metadata": {},
   "source": [
    "resultat_json = response.json()"
   ]
  },
  {
   "cell_type": "code",
   "execution_count": 200,
   "id": "interim-davis",
   "metadata": {},
   "outputs": [
    {
     "data": {
      "text/plain": [
       "{'head': {'vars': ['ville',\n",
       "   'name',\n",
       "   'available_bikes',\n",
       "   'available_bikes_stands',\n",
       "   'bike_stands',\n",
       "   'lat',\n",
       "   'long',\n",
       "   'place']},\n",
       " 'results': {'bindings': []}}"
      ]
     },
     "execution_count": 200,
     "metadata": {},
     "output_type": "execute_result"
    }
   ],
   "source": [
    "url = \"http://localhost:3030/db/sparql?query=\"+sparql_query\n",
    "response = requests.get(url)\n",
    "response.json()"
   ]
  },
  {
   "cell_type": "code",
   "execution_count": 201,
   "id": "natural-consultancy",
   "metadata": {},
   "outputs": [
    {
     "data": {
      "text/plain": [
       "'http://localhost:3030/db/sparql?query=PREFIX%20ns%3A%20%3Chttp%3A%2F%2Fschema.org%2F%3E%20PREFIX%20rdf%3A%20%3Chttp%3A%2F%2Fwww.w3.org%2F1999%2F02%2F22-rdf-syntax-ns%23%3E%20%20PREFIX%20rdfs%3A%3Chttp%3A%2F%2Fwww.w3.org%2F2001%2FXMLSchema%23%3E%20PREFIX%20owl%3A%20%3Chttp%3A%2F%2Fwww.owl-ontologies.com%2Funnamed.owl%23%3ESELECT%20%3Fville%20%3Fname%20%3Favailable_bikes%20%3Favailable_bikes_stands%20%3Fbike_stands%20%3Flat%20%3Flong%20%3Fplace%20WHERE%20%7B%20%3Fstation%20rdf%3Atype%20ns%3Astation%20.%20%3Fstation%20ns%3Aname%20%3Fname%20.%20%3Fstation%20ns%3Aville%20%3Fville%20.%20%3Fstation%20ns%3Aavailable_bikes%20%3Favailable_bikes%20.%20%3Fstation%20ns%3Aavailable_bikes_stands%20%3Favailable_bikes_stands%20.%20%3Fstation%20ns%3Along%20%3Flong%20.%20%3Fstation%20ns%3Alat%20%3Flat%20.%20%3Fstation%20ns%3Aplace%20%3Fplace%20.%20FILTER%20%28%2848.111353-%3Flat%29%2A%2848.111353-%3Flat%29%20%2B%20%28-1.680345-%3Flong%29%2A%28-1.680345-%3Flong%29%2A%280.8208332568911848-%280.00858342232004857%2A%3Flat%29%29%20%3C%200.008087797384722423%29%7D'"
      ]
     },
     "execution_count": 201,
     "metadata": {},
     "output_type": "execute_result"
    }
   ],
   "source": [
    "url"
   ]
  },
  {
   "cell_type": "code",
   "execution_count": 187,
   "id": "right-segment",
   "metadata": {},
   "outputs": [],
   "source": [
    "# https://pypi.org/project/sparql-client/"
   ]
  },
  {
   "cell_type": "code",
   "execution_count": 188,
   "id": "guided-possibility",
   "metadata": {},
   "outputs": [],
   "source": [
    "#cd /Library/Frameworks/Python.framework/Versions/3.9/lib/python3.9/site-packages "
   ]
  },
  {
   "cell_type": "code",
   "execution_count": 59,
   "id": "strong-contest",
   "metadata": {},
   "outputs": [],
   "source": [
    "resultat_json[\"results\"]"
   ]
  },
  {
   "cell_type": "markdown",
   "id": "transparent-moses",
   "metadata": {},
   "source": [
    "### Exemple Liste des stations de vélos 10 km autour de la mairie de Lyon"
   ]
  },
  {
   "cell_type": "code",
   "execution_count": 280,
   "id": "classified-explorer",
   "metadata": {},
   "outputs": [],
   "source": [
    "import pandas as pd"
   ]
  },
  {
   "cell_type": "code",
   "execution_count": null,
   "id": "necessary-consultancy",
   "metadata": {},
   "outputs": [],
   "source": []
  },
  {
   "cell_type": "code",
   "execution_count": 306,
   "id": "complete-operations",
   "metadata": {},
   "outputs": [
    {
     "name": "stdout",
     "output_type": "stream",
     "text": [
      "                           name    place ville                  lat  \\\n",
      "0       Croix Rousse / Perfetti  station  Lyon  45.77225384153049e0   \n",
      "1          Gambetta / Garibaldi  station  Lyon  45.75179013554747e0   \n",
      "2                  Perrache Est  station  Lyon  45.74610307357447e0   \n",
      "3             Perrache / Carnot  station  Lyon  45.75009964332607e0   \n",
      "4                      Tabareau  station  Lyon  45.77408067053439e0   \n",
      "...                         ...      ...   ...                  ...   \n",
      "30271         Créqui / Voltaire  station  Lyon  45.75669834417519e0   \n",
      "30272      Guillotière / Veyron  station  Lyon   45.7479327825068e0   \n",
      "30273             Gorge de Loup  station  Lyon  45.76736547851909e0   \n",
      "30274  Place Ennemond Fousseret  station  Lyon  45.76468150567123e0   \n",
      "30275    Garibaldi / Pensionnat  station  Lyon  45.75470656424962e0   \n",
      "\n",
      "                       lon  \n",
      "0      4.819460862010004e0  \n",
      "1      4.852607966008752e0  \n",
      "2      4.825605393944585e0  \n",
      "3      4.828051501355155e0  \n",
      "4      4.825159712198364e0  \n",
      "...                    ...  \n",
      "30271  4.848403485755715e0  \n",
      "30272  4.856337181809767e0  \n",
      "30273  4.805627699519277e0  \n",
      "30274  4.828983326522516e0  \n",
      "30275  4.853404447409928e0  \n",
      "\n",
      "[30276 rows x 5 columns]\n",
      "Empty DataFrame\n",
      "Columns: []\n",
      "Index: []\n",
      "PREFIX ns: <http://schema.org/> PREFIX rdf: <http://www.w3.org/1999/02/22-rdf-syntax-ns#> PREFIX rdfs:<http://www.w3.org/2001/XMLSchema#> PREFIX owl: <http://www.owl-ontologies.com/unnamed.owl#> SELECT ?nom ?place ?ville ?lat ?long WHERE { ?station rdf:type ns:station . ?station ns:nom ?nom . ?station ns:ville ?ville . station ns:long ?long . ?station ns:lat ?lat . ?station ns:place ?place .  FILTER ((45.75633-?lat)*(45.75633-?lat) + (4.826523-?long)*(4.826523-?long)* (-0.127777432085989-(-0.006802124661187562*?lat)) < 0.0003235118953888969)}\n"
     ]
    },
    {
     "ename": "JSONDecodeError",
     "evalue": "Expecting value: line 1 column 1 (char 0)",
     "output_type": "error",
     "traceback": [
      "\u001b[0;31m---------------------------------------------------------------------------\u001b[0m",
      "\u001b[0;31mJSONDecodeError\u001b[0m                           Traceback (most recent call last)",
      "\u001b[0;32m<ipython-input-306-c89bd20328b3>\u001b[0m in \u001b[0;36m<module>\u001b[0;34m\u001b[0m\n\u001b[1;32m      1\u001b[0m \u001b[0madresse\u001b[0m \u001b[0;34m=\u001b[0m \u001b[0;34m\"19 Quai Tilsitt, 69002 Lyon\"\u001b[0m\u001b[0;34m\u001b[0m\u001b[0;34m\u001b[0m\u001b[0m\n\u001b[1;32m      2\u001b[0m \u001b[0mradius_km\u001b[0m \u001b[0;34m=\u001b[0m \u001b[0;36m2\u001b[0m\u001b[0;34m\u001b[0m\u001b[0;34m\u001b[0m\u001b[0m\n\u001b[0;32m----> 3\u001b[0;31m \u001b[0mresultat\u001b[0m \u001b[0;34m=\u001b[0m \u001b[0mrequete\u001b[0m\u001b[0;34m(\u001b[0m\u001b[0madresse\u001b[0m\u001b[0;34m,\u001b[0m\u001b[0mradius_km\u001b[0m\u001b[0;34m)\u001b[0m\u001b[0;34m\u001b[0m\u001b[0;34m\u001b[0m\u001b[0m\n\u001b[0m\u001b[1;32m      4\u001b[0m \u001b[0mresultat\u001b[0m\u001b[0;34m\u001b[0m\u001b[0;34m\u001b[0m\u001b[0m\n",
      "\u001b[0;32m<ipython-input-305-13c51c30f46c>\u001b[0m in \u001b[0;36mrequete\u001b[0;34m(adresse, radius)\u001b[0m\n\u001b[1;32m     98\u001b[0m     \u001b[0murl3\u001b[0m \u001b[0;34m=\u001b[0m \u001b[0;34m\"http://localhost:3030/db/sparql?query=\"\u001b[0m\u001b[0;34m+\u001b[0m\u001b[0msparql_query3\u001b[0m\u001b[0;34m\u001b[0m\u001b[0;34m\u001b[0m\u001b[0m\n\u001b[1;32m     99\u001b[0m     \u001b[0mresponse3\u001b[0m \u001b[0;34m=\u001b[0m \u001b[0mrequests\u001b[0m\u001b[0;34m.\u001b[0m\u001b[0mget\u001b[0m\u001b[0;34m(\u001b[0m\u001b[0murl3\u001b[0m\u001b[0;34m)\u001b[0m\u001b[0;34m\u001b[0m\u001b[0;34m\u001b[0m\u001b[0m\n\u001b[0;32m--> 100\u001b[0;31m     \u001b[0mjson3\u001b[0m \u001b[0;34m=\u001b[0m \u001b[0mresponse3\u001b[0m\u001b[0;34m.\u001b[0m\u001b[0mjson\u001b[0m\u001b[0;34m(\u001b[0m\u001b[0;34m)\u001b[0m\u001b[0;34m\u001b[0m\u001b[0;34m\u001b[0m\u001b[0m\n\u001b[0m\u001b[1;32m    101\u001b[0m     \u001b[0mjson3\u001b[0m \u001b[0;34m=\u001b[0m \u001b[0mjson3\u001b[0m\u001b[0;34m[\u001b[0m\u001b[0;34m\"results\"\u001b[0m\u001b[0;34m]\u001b[0m\u001b[0;34m[\u001b[0m\u001b[0;34m\"bindings\"\u001b[0m\u001b[0;34m]\u001b[0m\u001b[0;34m\u001b[0m\u001b[0;34m\u001b[0m\u001b[0m\n\u001b[1;32m    102\u001b[0m     \u001b[0mrequete3\u001b[0m \u001b[0;34m=\u001b[0m \u001b[0mpd\u001b[0m\u001b[0;34m.\u001b[0m\u001b[0mDataFrame\u001b[0m\u001b[0;34m(\u001b[0m\u001b[0;34m)\u001b[0m\u001b[0;34m\u001b[0m\u001b[0;34m\u001b[0m\u001b[0m\n",
      "\u001b[0;32m/Library/Frameworks/Python.framework/Versions/3.9/lib/python3.9/site-packages/requests/models.py\u001b[0m in \u001b[0;36mjson\u001b[0;34m(self, **kwargs)\u001b[0m\n\u001b[1;32m    898\u001b[0m                     \u001b[0;31m# used.\u001b[0m\u001b[0;34m\u001b[0m\u001b[0;34m\u001b[0m\u001b[0;34m\u001b[0m\u001b[0m\n\u001b[1;32m    899\u001b[0m                     \u001b[0;32mpass\u001b[0m\u001b[0;34m\u001b[0m\u001b[0;34m\u001b[0m\u001b[0m\n\u001b[0;32m--> 900\u001b[0;31m         \u001b[0;32mreturn\u001b[0m \u001b[0mcomplexjson\u001b[0m\u001b[0;34m.\u001b[0m\u001b[0mloads\u001b[0m\u001b[0;34m(\u001b[0m\u001b[0mself\u001b[0m\u001b[0;34m.\u001b[0m\u001b[0mtext\u001b[0m\u001b[0;34m,\u001b[0m \u001b[0;34m**\u001b[0m\u001b[0mkwargs\u001b[0m\u001b[0;34m)\u001b[0m\u001b[0;34m\u001b[0m\u001b[0;34m\u001b[0m\u001b[0m\n\u001b[0m\u001b[1;32m    901\u001b[0m \u001b[0;34m\u001b[0m\u001b[0m\n\u001b[1;32m    902\u001b[0m     \u001b[0;34m@\u001b[0m\u001b[0mproperty\u001b[0m\u001b[0;34m\u001b[0m\u001b[0;34m\u001b[0m\u001b[0m\n",
      "\u001b[0;32m/Library/Frameworks/Python.framework/Versions/3.9/lib/python3.9/site-packages/simplejson/__init__.py\u001b[0m in \u001b[0;36mloads\u001b[0;34m(s, encoding, cls, object_hook, parse_float, parse_int, parse_constant, object_pairs_hook, use_decimal, **kw)\u001b[0m\n\u001b[1;32m    523\u001b[0m             \u001b[0mparse_constant\u001b[0m \u001b[0;32mis\u001b[0m \u001b[0;32mNone\u001b[0m \u001b[0;32mand\u001b[0m \u001b[0mobject_pairs_hook\u001b[0m \u001b[0;32mis\u001b[0m \u001b[0;32mNone\u001b[0m\u001b[0;34m\u001b[0m\u001b[0;34m\u001b[0m\u001b[0m\n\u001b[1;32m    524\u001b[0m             and not use_decimal and not kw):\n\u001b[0;32m--> 525\u001b[0;31m         \u001b[0;32mreturn\u001b[0m \u001b[0m_default_decoder\u001b[0m\u001b[0;34m.\u001b[0m\u001b[0mdecode\u001b[0m\u001b[0;34m(\u001b[0m\u001b[0ms\u001b[0m\u001b[0;34m)\u001b[0m\u001b[0;34m\u001b[0m\u001b[0;34m\u001b[0m\u001b[0m\n\u001b[0m\u001b[1;32m    526\u001b[0m     \u001b[0;32mif\u001b[0m \u001b[0mcls\u001b[0m \u001b[0;32mis\u001b[0m \u001b[0;32mNone\u001b[0m\u001b[0;34m:\u001b[0m\u001b[0;34m\u001b[0m\u001b[0;34m\u001b[0m\u001b[0m\n\u001b[1;32m    527\u001b[0m         \u001b[0mcls\u001b[0m \u001b[0;34m=\u001b[0m \u001b[0mJSONDecoder\u001b[0m\u001b[0;34m\u001b[0m\u001b[0;34m\u001b[0m\u001b[0m\n",
      "\u001b[0;32m/Library/Frameworks/Python.framework/Versions/3.9/lib/python3.9/site-packages/simplejson/decoder.py\u001b[0m in \u001b[0;36mdecode\u001b[0;34m(self, s, _w, _PY3)\u001b[0m\n\u001b[1;32m    368\u001b[0m         \u001b[0;32mif\u001b[0m \u001b[0m_PY3\u001b[0m \u001b[0;32mand\u001b[0m \u001b[0misinstance\u001b[0m\u001b[0;34m(\u001b[0m\u001b[0ms\u001b[0m\u001b[0;34m,\u001b[0m \u001b[0mbytes\u001b[0m\u001b[0;34m)\u001b[0m\u001b[0;34m:\u001b[0m\u001b[0;34m\u001b[0m\u001b[0;34m\u001b[0m\u001b[0m\n\u001b[1;32m    369\u001b[0m             \u001b[0ms\u001b[0m \u001b[0;34m=\u001b[0m \u001b[0mstr\u001b[0m\u001b[0;34m(\u001b[0m\u001b[0ms\u001b[0m\u001b[0;34m,\u001b[0m \u001b[0mself\u001b[0m\u001b[0;34m.\u001b[0m\u001b[0mencoding\u001b[0m\u001b[0;34m)\u001b[0m\u001b[0;34m\u001b[0m\u001b[0;34m\u001b[0m\u001b[0m\n\u001b[0;32m--> 370\u001b[0;31m         \u001b[0mobj\u001b[0m\u001b[0;34m,\u001b[0m \u001b[0mend\u001b[0m \u001b[0;34m=\u001b[0m \u001b[0mself\u001b[0m\u001b[0;34m.\u001b[0m\u001b[0mraw_decode\u001b[0m\u001b[0;34m(\u001b[0m\u001b[0ms\u001b[0m\u001b[0;34m)\u001b[0m\u001b[0;34m\u001b[0m\u001b[0;34m\u001b[0m\u001b[0m\n\u001b[0m\u001b[1;32m    371\u001b[0m         \u001b[0mend\u001b[0m \u001b[0;34m=\u001b[0m \u001b[0m_w\u001b[0m\u001b[0;34m(\u001b[0m\u001b[0ms\u001b[0m\u001b[0;34m,\u001b[0m \u001b[0mend\u001b[0m\u001b[0;34m)\u001b[0m\u001b[0;34m.\u001b[0m\u001b[0mend\u001b[0m\u001b[0;34m(\u001b[0m\u001b[0;34m)\u001b[0m\u001b[0;34m\u001b[0m\u001b[0;34m\u001b[0m\u001b[0m\n\u001b[1;32m    372\u001b[0m         \u001b[0;32mif\u001b[0m \u001b[0mend\u001b[0m \u001b[0;34m!=\u001b[0m \u001b[0mlen\u001b[0m\u001b[0;34m(\u001b[0m\u001b[0ms\u001b[0m\u001b[0;34m)\u001b[0m\u001b[0;34m:\u001b[0m\u001b[0;34m\u001b[0m\u001b[0;34m\u001b[0m\u001b[0m\n",
      "\u001b[0;32m/Library/Frameworks/Python.framework/Versions/3.9/lib/python3.9/site-packages/simplejson/decoder.py\u001b[0m in \u001b[0;36mraw_decode\u001b[0;34m(self, s, idx, _w, _PY3)\u001b[0m\n\u001b[1;32m    398\u001b[0m             \u001b[0;32melif\u001b[0m \u001b[0mord0\u001b[0m \u001b[0;34m==\u001b[0m \u001b[0;36m0xef\u001b[0m \u001b[0;32mand\u001b[0m \u001b[0ms\u001b[0m\u001b[0;34m[\u001b[0m\u001b[0midx\u001b[0m\u001b[0;34m:\u001b[0m\u001b[0midx\u001b[0m \u001b[0;34m+\u001b[0m \u001b[0;36m3\u001b[0m\u001b[0;34m]\u001b[0m \u001b[0;34m==\u001b[0m \u001b[0;34m'\\xef\\xbb\\xbf'\u001b[0m\u001b[0;34m:\u001b[0m\u001b[0;34m\u001b[0m\u001b[0;34m\u001b[0m\u001b[0m\n\u001b[1;32m    399\u001b[0m                 \u001b[0midx\u001b[0m \u001b[0;34m+=\u001b[0m \u001b[0;36m3\u001b[0m\u001b[0;34m\u001b[0m\u001b[0;34m\u001b[0m\u001b[0m\n\u001b[0;32m--> 400\u001b[0;31m         \u001b[0;32mreturn\u001b[0m \u001b[0mself\u001b[0m\u001b[0;34m.\u001b[0m\u001b[0mscan_once\u001b[0m\u001b[0;34m(\u001b[0m\u001b[0ms\u001b[0m\u001b[0;34m,\u001b[0m \u001b[0midx\u001b[0m\u001b[0;34m=\u001b[0m\u001b[0m_w\u001b[0m\u001b[0;34m(\u001b[0m\u001b[0ms\u001b[0m\u001b[0;34m,\u001b[0m \u001b[0midx\u001b[0m\u001b[0;34m)\u001b[0m\u001b[0;34m.\u001b[0m\u001b[0mend\u001b[0m\u001b[0;34m(\u001b[0m\u001b[0;34m)\u001b[0m\u001b[0;34m)\u001b[0m\u001b[0;34m\u001b[0m\u001b[0;34m\u001b[0m\u001b[0m\n\u001b[0m",
      "\u001b[0;31mJSONDecodeError\u001b[0m: Expecting value: line 1 column 1 (char 0)"
     ]
    }
   ],
   "source": [
    "adresse = \"19 Quai Tilsitt, 69002 Lyon\"\n",
    "radius_km = 2\n",
    "resultat = requete(adresse,radius_km)\n",
    "resultat"
   ]
  },
  {
   "cell_type": "code",
   "execution_count": 305,
   "id": "surgical-omaha",
   "metadata": {},
   "outputs": [],
   "source": [
    "def requete(adresse,radius):\n",
    "    lat, lon = getCoordinates(adresse)\n",
    "    radius_degree = convRadiusKM(radius_km)\n",
    "    phi = round(lat)\n",
    "    val1 = math.cos(phi)*math.sin(phi)* math.pi/180\n",
    "    val2 = math.cos(phi)*(math.cos(phi) - math.sin(phi)* math.pi/180 * (lat-2*phi))\n",
    "    \n",
    "    # Lyon Velos\n",
    "    PREFIX = \"PREFIX ns: <http://schema.org/> \"\\\n",
    "        + \"PREFIX rdf: <http://www.w3.org/1999/02/22-rdf-syntax-ns#> \"\\\n",
    "        + \"PREFIX rdfs:<http://www.w3.org/2001/XMLSchema#> \"\\\n",
    "        + \"PREFIX owl: <http://www.owl-ontologies.com/unnamed.owl#> \"\n",
    "    \n",
    "    FILTER = \"FILTER ((\"+str(lat)+\"-?lat)*(\"+str(lat)+\"-?lat) + (\"+str(lon)+\"-?long)*(\"+str(lon)+\"-?long)* \" \\\n",
    "    \"(\"+str(val2)+\"-(\"+str(val1)+\"*?lat)) < \"+str(radius_degree)+\")}\"\n",
    "    \n",
    "    requete = \"SELECT ?ville ?name ?available_bikes ?available_bikes_stands ?bike_stands ?lat ?long ?place WHERE { \" \\\n",
    "    \"?station rdf:type ns:station . ?station ns:name ?name . ?station ns:ville ?ville . ?station ns:available_bikes ?available_bikes . \"  \\\n",
    "    \"?station ns:available_bikes_stands ?available_bikes_stands . ?station ns:long ?long . ?station ns:lat ?lat . ?station ns:place ?place . \"\n",
    "    sparql_query1 = PREFIX + requete + FILTER\n",
    "    #print(sparql_query)\n",
    "    sparql_query1 = urllib.parse.quote(sparql_query1, safe='')\n",
    "    url1 = \"http://localhost:3030/db/sparql?query=\"+sparql_query1\n",
    "    response1 = requests.get(url1)\n",
    "    json1 = response1.json()\n",
    "    json1 = json1[\"results\"][\"bindings\"]\n",
    "    \n",
    "    requete1 = pd.DataFrame()\n",
    "    \n",
    "    for i in range(len(json1)):\n",
    "        name = json1[i][\"name\"][\"value\"] \n",
    "        ville = json1[i][\"ville\"][\"value\"]\n",
    "        lat = json1[i][\"lat\"][\"value\"]\n",
    "        lon = json1[i][\"long\"][\"value\"]\n",
    "        place = json1[i][\"place\"][\"value\"]\n",
    "        list_to_append = [name] + [ville] + [lat] + [lon] + [place]\n",
    "        line_labels = [\"name\"] + [\"ville\"] + [\"lat\"] + [\"lon\"] + [\"place\"]\n",
    "        dic = {line_labels[i]: list_to_append[i] for i in range(len(list_to_append))}\n",
    "        requete1 = df.append(requete1,ignore_index=True)\n",
    "    \n",
    "    if len(requete1)>1:\n",
    "        requete1 = requete1[[\"name\",\"place\",\"ville\",\"lat\",\"lon\"]]\n",
    "    print(requete1)\n",
    "    \n",
    "    \n",
    "    # Lille Hopitaux\n",
    "    PREFIX = \"PREFIX ns: <http://schema.org/> \" \\\n",
    "            \"PREFIX rdf: <http://www.w3.org/1999/02/22-rdf-syntax-ns#> \"\\\n",
    "            \"PREFIX rdfs:<http://www.w3.org/2001/XMLSchema#> \"\\\n",
    "            \"PREFIX owl: <http://www.owl-ontologies.com/unnamed.owl#> \"\n",
    "    \n",
    "    requete = \"SELECT ?commune ?place ?ville ?lat ?long\" \\\n",
    "                \"WHERE { ?hospital rdf:type ns:hospital . \"\\\n",
    "                \"?hospital ns:commune ?commune . \"\\\n",
    "                \"?hospital ns:ville ?ville . \"\\\n",
    "                \"?hospital ns:long ?long . \"\\\n",
    "                \"?hospital ns:lat ?lat . \"\\\n",
    "                \"?hospital ns:place ?place .\"\n",
    "    \n",
    "    sparql_query2 = PREFIX + requete + FILTER\n",
    "    sparql_query2 = urllib.parse.quote(sparql_query2, safe='')\n",
    "    url2 = \"http://localhost:3030/db/sparql?query=\"+sparql_query2\n",
    "    response2 = requests.get(url2)\n",
    "    json2 = response2.json()\n",
    "    json2 = json2[\"results\"][\"bindings\"]\n",
    "    requete2 = pd.DataFrame()\n",
    "    \n",
    "    for i in range(len(json2)):\n",
    "        name = json2[i][\"commune\"][\"value\"] \n",
    "        ville = json2[i][\"ville\"][\"value\"]\n",
    "        lat = json2[i][\"lat\"][\"value\"]\n",
    "        lon = json2[i][\"long\"][\"value\"]\n",
    "        place = json2[i][\"place\"][\"value\"]\n",
    "        list_to_append = [name] + [ville] + [lat] + [lon] + [place]\n",
    "        line_labels = [\"name\"] + [\"ville\"] + [\"lat\"] + [\"lon\"] + [\"place\"]\n",
    "        dic = {line_labels[i]: list_to_append[i] for i in range(len(list_to_append))}\n",
    "        requete2 = df.append(requete2,ignore_index=True)\n",
    "    \n",
    "    if len(requete2)>1:\n",
    "        requete2 = requete2[[\"name\",\"place\",\"ville\",\"lat\",\"lon\"]]\n",
    "    print(requete2)\n",
    "    \n",
    "    # Rennes Velos\n",
    "    PREFIX = \"PREFIX ns: <http://schema.org/> \"\\\n",
    "    + \"PREFIX rdf: <http://www.w3.org/1999/02/22-rdf-syntax-ns#> \"\\\n",
    "    + \"PREFIX rdfs:<http://www.w3.org/2001/XMLSchema#> \"\\\n",
    "    + \"PREFIX owl: <http://www.owl-ontologies.com/unnamed.owl#> \"\n",
    "    \n",
    "    requete = \"SELECT ?nom ?place ?ville ?lat ?long \"\\\n",
    "    \"WHERE { ?station rdf:type ns:station . ?station ns:nom ?nom .\"\\\n",
    "    \" ?station ns:ville ?ville . ?station ns:long ?long .\"\\\n",
    "    \" ?station ns:lat ?lat .\" \\\n",
    "    \" ?station ns:place ?place .  \"\n",
    "    \n",
    "    sparql_query3 = PREFIX + requete + FILTER\n",
    "    print(sparql_query3)\n",
    "    sparql_query3 = urllib.parse.quote(sparql_query3, safe='')\n",
    "    url3 = \"http://localhost:3030/db/sparql?query=\"+sparql_query3\n",
    "    response3 = requests.get(url3)\n",
    "    json3 = response3.json()\n",
    "    json3 = json3[\"results\"][\"bindings\"]\n",
    "    requete3 = pd.DataFrame()\n",
    "    \n",
    "    for i in range(len(json3)):\n",
    "        name = json3[i][\"nom\"][\"value\"] \n",
    "        ville = json3[i][\"ville\"][\"value\"]\n",
    "        lat = json3[i][\"lat\"][\"value\"]\n",
    "        lon = json3[i][\"long\"][\"value\"]\n",
    "        place = json3[i][\"place\"][\"value\"]\n",
    "        list_to_append = [name] + [ville] + [lat] + [lon] + [place]\n",
    "        line_labels = [\"name\"] + [\"ville\"] + [\"lat\"] + [\"lon\"] + [\"place\"]\n",
    "        dic = {line_labels[i]: list_to_append[i] for i in range(len(list_to_append))}\n",
    "        requete3 = df.append(requete3,ignore_index=True)\n",
    "    \n",
    "    if len(requete3) >1:\n",
    "        requete3 = requete3[[\"name\",\"place\",\"ville\",\"lat\",\"lon\"]]\n",
    "    print(requete3)"
   ]
  },
  {
   "cell_type": "code",
   "execution_count": null,
   "id": "occupational-brother",
   "metadata": {},
   "outputs": [],
   "source": []
  },
  {
   "cell_type": "code",
   "execution_count": null,
   "id": "satisfactory-vaccine",
   "metadata": {},
   "outputs": [],
   "source": []
  }
 ],
 "metadata": {
  "kernelspec": {
   "display_name": "Python 3",
   "language": "python",
   "name": "python3"
  },
  "language_info": {
   "codemirror_mode": {
    "name": "ipython",
    "version": 3
   },
   "file_extension": ".py",
   "mimetype": "text/x-python",
   "name": "python",
   "nbconvert_exporter": "python",
   "pygments_lexer": "ipython3",
   "version": "3.9.2"
  }
 },
 "nbformat": 4,
 "nbformat_minor": 5
}
