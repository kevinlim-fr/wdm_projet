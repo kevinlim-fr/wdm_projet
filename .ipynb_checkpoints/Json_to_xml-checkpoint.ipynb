{
 "cells": [
  {
   "cell_type": "code",
   "execution_count": 214,
   "metadata": {
    "scrolled": true
   },
   "outputs": [],
   "source": [
    "import requests\n",
    "\n",
    "url_lyon = 'https://download.data.grandlyon.com/wfs/rdata?SERVICE=WFS&VERSION=1.1.0&outputformat=GEOJSON&request=GetFeature&typename=jcd_jcdecaux.jcdvelov&SRSNAME=urn:ogc:def:crs:EPSG::4171'\n",
    "data_lyon = requests.get(url_lyon).json()\n",
    "\n",
    "#data_lyon"
   ]
  },
  {
   "cell_type": "code",
   "execution_count": 215,
   "metadata": {},
   "outputs": [],
   "source": [
    "\n",
    "for element in data_lyon['features']:\n",
    "    del element['properties']['number']\n",
    "    del element['properties']['address']\n",
    "    del element['properties']['address2']\n",
    "    del element['properties']['commune']\n",
    "    del element['properties']['nmarrond']\n",
    "    del element['properties']['pole']\n",
    "    del element['properties']['bonus']\n",
    "    del element['properties']['status']\n",
    "    del element['properties']['availabilitycode']\n",
    "    del element['properties']['availability']\n",
    "    del element['properties']['banking']\n",
    "    del element['properties']['gid']\n",
    "    del element['properties']['last_update']\n",
    "    del element['properties']['last_update_fme']\n",
    "    del element['properties']['code_insee']\n",
    "    del element['properties']['langue']\n",
    "    del element['properties']['nature']\n",
    "    del element['properties']['titre']\n",
    "    del element['properties']['description']\n",
    "    del element['properties']['startdate']\n",
    "    del element['properties']['enddate']\n",
    "    del element['properties']['etat']\n",
    "    del element['geometry']\n",
    "    element['properties']['ville'] = 'Lyon'\n",
    "    element['properties']['lat']=float(element['properties']['lat'])\n",
    "    element['properties']['lng']=float(element['properties']['lng'])\n",
    "    element['properties']['@type']='station'\n",
    "    \n",
    "      \n"
   ]
  },
  {
   "cell_type": "code",
   "execution_count": 216,
   "metadata": {},
   "outputs": [],
   "source": [
    "for element in data_lyon['features']:\n",
    "    element['properties']['place'] = \"station\"\n",
    "    #element['properties']['type'] = \"station\"\n",
    "data_lyon['name'] = 'Stations de velos Lyon'\n",
    "\n"
   ]
  },
  {
   "cell_type": "code",
   "execution_count": 217,
   "metadata": {},
   "outputs": [],
   "source": [
    "#data_lyon"
   ]
  },
  {
   "cell_type": "code",
   "execution_count": 218,
   "metadata": {},
   "outputs": [],
   "source": [
    "data_lyon={\n",
    "    \"@context\":{\n",
    "        \"@vocab\": \"http://schema.org/\", \n",
    "\t\t\"@base\": \"http://data.org/\", \n",
    "\t\t\"name\": \"name\",\n",
    "        \"available_bike_stands\":\"available_bikes_stands\",\n",
    "        \"available_bikes\":\"available_bikes\",\n",
    "        \"bike_stands\":\"bike_stands\",\n",
    "\t\t\"lat\": \"lat\", \n",
    "\t\t\"lng\": \"long\",\n",
    "        \"ville\":\"ville\",\n",
    "        \"place\":\"place\"\n",
    "    },\n",
    "    \"features\":[\n",
    "        data_lyon\n",
    "    ]\n",
    "}"
   ]
  },
  {
   "cell_type": "code",
   "execution_count": 219,
   "metadata": {},
   "outputs": [],
   "source": [
    "import json \n",
    "with open('lyon_bikes_records.json', 'w') as fp:\n",
    "   json.dump(data_lyon, fp,ensure_ascii=False)"
   ]
  },
  {
   "cell_type": "code",
   "execution_count": 220,
   "metadata": {},
   "outputs": [],
   "source": [
    "url_rennes= 'https://data.rennesmetropole.fr/api/records/1.0/search/?dataset=etat-des-stations-le-velo-star-en-temps-reel'\n",
    "data_rennes = requests.get(url_rennes).json()\n",
    "\n",
    "#data_rennes"
   ]
  },
  {
   "cell_type": "code",
   "execution_count": 221,
   "metadata": {},
   "outputs": [],
   "source": [
    "data_rennes[\"type\"]=\"FeatureCollection\"\n",
    "data_rennes[\"name\"]=\"Stations de velos Rennes\"\n",
    "del data_rennes['nhits']\n",
    "del data_rennes['parameters']\n",
    "\n",
    "#data_rennes\n",
    "\n",
    "\n"
   ]
  },
  {
   "cell_type": "code",
   "execution_count": 222,
   "metadata": {},
   "outputs": [],
   "source": [
    "for element in data_rennes['records']:\n",
    "    del element['datasetid']\n",
    "    del element['recordid']\n",
    "    del element['fields']['etat']\n",
    "    del element['fields']['lastupdate']\n",
    "    del element['fields']['idstation']\n",
    "    del element['geometry']\n",
    "    del element['record_timestamp']\n",
    "    element['fields']\n",
    "  \n",
    "\n",
    "    \n",
    "#data_rennes"
   ]
  },
  {
   "cell_type": "code",
   "execution_count": 223,
   "metadata": {},
   "outputs": [],
   "source": [
    "for element in data_rennes['records']:\n",
    "    element['type']='Feature'\n",
    "    element['fields']['@type'] = \"station\"\n",
    "    element['fields']['place']=\"station\"\n",
    "    element['fields']['ville'] = 'Rennes'\n",
    "    element['fields']['lat']= element['fields']['coordonnees'][0]\n",
    "    element['fields']['long'] = element['fields']['coordonnees'][1]\n",
    "    \n"
   ]
  },
  {
   "cell_type": "code",
   "execution_count": 224,
   "metadata": {},
   "outputs": [],
   "source": [
    "#data_rennes"
   ]
  },
  {
   "cell_type": "code",
   "execution_count": 225,
   "metadata": {},
   "outputs": [],
   "source": [
    "data_rennes={\n",
    "    \"@context\":{\n",
    "        \"@vocab\": \"http://schema.org/\", \n",
    "\t\t\"@base\": \"http://data.org/\", \n",
    "\t\t\"name\": \"name\",\n",
    "        \"nombrevelosdisponibles\":\"available_bikes\",\n",
    "        \"nombreemplacementsdisponibles\":\"available_bikes_stands\",\n",
    "        \"nombreemplacementsactuels\":\"bike_stands\",\n",
    "\t\t\"lat\": \"lat\", \n",
    "\t\t\"long\": \"long\",\n",
    "        \"ville\":\"ville\",\n",
    "        \"place\":\"place\",\n",
    "    },\n",
    "    \"features\":[\n",
    "        data_rennes\n",
    "    ]\n",
    "}"
   ]
  },
  {
   "cell_type": "code",
   "execution_count": 226,
   "metadata": {},
   "outputs": [],
   "source": [
    "import json \n",
    "with open('rennes_bikes_records.json', 'w') as fp:\n",
    "   json.dump(data_rennes, fp,ensure_ascii=False)"
   ]
  },
  {
   "cell_type": "code",
   "execution_count": 227,
   "metadata": {},
   "outputs": [],
   "source": [
    "from urllib.request import urlopen\n",
    "import xmltodict\n",
    "\n",
    "data = urlopen(\"https://data.montpellier3m.fr/sites/default/files/ressources/TAM_MMM_VELOMAG.xml\").read()\n",
    "\n",
    "data = xmltodict.parse(data)\n",
    "#data"
   ]
  },
  {
   "cell_type": "code",
   "execution_count": 228,
   "metadata": {},
   "outputs": [],
   "source": [
    "features_montpellier = list()\n",
    "for element in data['vcs']['sl']['si']:\n",
    "    temp= list(element.values())\n",
    "    temp.pop(1)\n",
    "    features_montpellier.append(temp)\n",
    "for element in features_montpellier:\n",
    "    element[0]=element[0][4:]\n",
    "#features_montpellier"
   ]
  },
  {
   "cell_type": "code",
   "execution_count": 229,
   "metadata": {},
   "outputs": [],
   "source": [
    "montpellier_json={\n",
    "    'type': 'FeatureCollection',\n",
    "    'name': 'Stations de velos Montpellier',\n",
    "    \"features\":[]\n",
    "}\n",
    "for element in montpellier_json['features']:\n",
    "    element['type']='Feature'"
   ]
  },
  {
   "cell_type": "code",
   "execution_count": 230,
   "metadata": {},
   "outputs": [],
   "source": [
    "\n",
    "for element in features_montpellier:\n",
    "    properties=dict(zip([\"name\",\"lat\",\"long\",\"available_bikes_stands\",\"available_bikes\",\"total\"],element))\n",
    "    temp = {\n",
    "        \"type\":\"Feature\",\n",
    "        \"properties\":properties\n",
    "        \n",
    "    }\n",
    "    montpellier_json['features'].append(temp)"
   ]
  },
  {
   "cell_type": "code",
   "execution_count": 231,
   "metadata": {},
   "outputs": [],
   "source": [
    "#montpellier_json"
   ]
  },
  {
   "cell_type": "code",
   "execution_count": 232,
   "metadata": {},
   "outputs": [],
   "source": [
    "for element in montpellier_json['features']:\n",
    "    element['properties']['@type'] = \"station\"\n",
    "    element['properties']['place'] = \"station\"\n",
    "    element['properties']['ville']= 'Montpellier'\n",
    "    element['properties']['lat']=float(element['properties']['lat'])\n",
    "    element['properties']['long']=float(element['properties']['long'])\n",
    "    element['properties']['available_bikes']=float(element['properties']['available_bikes'])\n",
    "    element['properties']['available_bikes_stands']=float(element['properties']['available_bikes_stands'])\n",
    "    element['properties']['total']=float(element['properties']['total'])"
   ]
  },
  {
   "cell_type": "code",
   "execution_count": 233,
   "metadata": {},
   "outputs": [],
   "source": [
    "#montpellier_json"
   ]
  },
  {
   "cell_type": "code",
   "execution_count": 234,
   "metadata": {},
   "outputs": [],
   "source": [
    "montpellier_json={\n",
    "    \"@context\":{\n",
    "        \"@vocab\": \"http://schema.org/\", \n",
    "\t\t\"@base\": \"http://data.org/\", \n",
    "\t\t\"name\": \"name\",\n",
    "        \"available_bikes_stands\":\"available_bikes_stands\",\n",
    "        \"available_bikes\":\"available_bikes\",\n",
    "\t\t\"lat\": \"lat\", \n",
    "\t\t\"long\": \"long\",\n",
    "        \"ville\":\"ville\",\n",
    "        \"place\":\"place\",\n",
    "    },\n",
    "    \"features\":[\n",
    "        montpellier_json\n",
    "    ]\n",
    "}"
   ]
  },
  {
   "cell_type": "code",
   "execution_count": 235,
   "metadata": {},
   "outputs": [],
   "source": [
    "import json \n",
    "with open('montpellier_bikes_records.json', 'w') as fp:\n",
    "   json.dump(montpellier_json, fp,ensure_ascii=False)"
   ]
  },
  {
   "cell_type": "code",
   "execution_count": 236,
   "metadata": {},
   "outputs": [],
   "source": [
    "#montpellier_json['features'][0]"
   ]
  },
  {
   "cell_type": "code",
   "execution_count": 238,
   "metadata": {},
   "outputs": [],
   "source": [
    "url_lille= 'https://opendata.lillemetropole.fr//explore/dataset/localisation-hopitaux/download?format=json&timezone=Europe/Berlin&use_labels_for_header=false'\n",
    "data_lille = requests.get(url_lille).json()\n",
    "\n",
    "#data_lille"
   ]
  },
  {
   "cell_type": "code",
   "execution_count": 239,
   "metadata": {},
   "outputs": [],
   "source": [
    "for element in data_lille:\n",
    "    del element['datasetid']\n",
    "    del element['recordid']\n",
    "    del element['fields']['objectid']\n",
    "    if 'url' in element['fields']:\n",
    "        del element['fields']['url']\n",
    "    del element['fields']['libelle']\n",
    "    del element['fields']['geometry']\n",
    "    del element['geometry']\n",
    "    del element['record_timestamp']\n",
    "    element['fields']"
   ]
  },
  {
   "cell_type": "code",
   "execution_count": 240,
   "metadata": {},
   "outputs": [],
   "source": [
    "#data_lille"
   ]
  },
  {
   "cell_type": "code",
   "execution_count": 241,
   "metadata": {},
   "outputs": [],
   "source": [
    "for element in data_lille:\n",
    "    element['type']='Feature'\n",
    "    element['fields']['@type'] = \"hospital\"\n",
    "    element['fields']['place']=\"hospital\"\n",
    "    element['fields']['ville'] = 'Lille'\n",
    "    element['fields']['lat']= element['fields']['geo_point_2d'][0]\n",
    "    element['fields']['long'] = element['fields']['geo_point_2d'][1]"
   ]
  },
  {
   "cell_type": "code",
   "execution_count": 242,
   "metadata": {},
   "outputs": [],
   "source": [
    "#data_lille\n",
    "    "
   ]
  },
  {
   "cell_type": "code",
   "execution_count": 243,
   "metadata": {},
   "outputs": [],
   "source": [
    "data_lille={\n",
    "    \"@context\":{\n",
    "        \"@vocab\": \"http://schema.org/\", \n",
    "\t\t\"@base\": \"http://data.org/\", \n",
    "\t\t\"name\": \"name\", \n",
    "\t\t\"lat\": \"lat\", \n",
    "\t\t\"long\": \"long\",\n",
    "        \"ville\":\"ville\",\n",
    "        \"place\":\"place\"\n",
    "    },\n",
    "    \"features\":[\n",
    "        data_lille\n",
    "    ]\n",
    "}"
   ]
  },
  {
   "cell_type": "code",
   "execution_count": 244,
   "metadata": {},
   "outputs": [],
   "source": [
    "import json \n",
    "with open('lille_hospital_records.json', 'w') as fp:\n",
    "   json.dump(data_lille, fp,ensure_ascii=False)"
   ]
  },
  {
   "cell_type": "code",
   "execution_count": 245,
   "metadata": {},
   "outputs": [],
   "source": [
    "url_hospital= 'https://www.data.gouv.fr/fr/datasets/r/1818b1fa-93cf-4d3d-acf1-b3a4c99c4ee5'\n",
    "data_hospital = requests.get(url_hospital).json()\n",
    "\n",
    "\n",
    "for element in data_hospital['features']:\n",
    "    del element['id']\n",
    "    del element['geometry']['type']\n",
    "    del element['geometry_name']\n",
    "    del element['properties']['amenity']\n",
    "    del element['properties']['short_name']\n",
    "    del element['properties']['official_name']\n",
    "    del element['properties']['alt_name']\n",
    "    del element['properties']['old_name']\n",
    "    del element['properties']['operator']\n",
    "    del element['properties']['operator-type']\n",
    "    del element['properties']['emergency']\n",
    "    del element['properties']['capacity']\n",
    "    del element['properties']['wheelchair']\n",
    "    del element['properties']['ref-FR-FINESS']\n",
    "    del element['properties']['type-FR-FINESS']\n",
    "    del element['properties']['ref-FR-NAF']\n",
    "    del element['properties']['ref-FR-SIRET']\n",
    "    del element['properties']['contact-website']\n",
    "    del element['properties']['url']\n",
    "    del element['properties']['phone']\n",
    "    del element['properties']['contact-phone']\n",
    "    del element['properties']['email']\n",
    "    del element['properties']['contact-email']\n",
    "    del element['properties']['addr-housename']\n",
    "    del element['properties']['addr-housenumber']\n",
    "    del element['properties']['addr-street']\n",
    "    del element['properties']['addr-city']\n",
    "    del element['properties']['addr-postcode']\n",
    "    del element['properties']['wikidata']\n",
    "    del element['properties']['description']\n",
    "    del element['properties']['opening_hours']\n",
    "    del element['properties']['source']\n",
    "    del element['properties']['note']\n",
    "    del element['properties']['osm_type']\n",
    "    del element['properties']['osm_version']\n",
    "    del element['properties']['osm_timestamp']\n",
    "    del element['properties']['healthcare-speciality']\n",
    "    del element['properties']['osm_original_geom']\n",
    "    del element['properties']['bbox']\n",
    "    del element['properties']['osm_id']\n",
    "    del element['properties']['fax']\n",
    "    del element['properties']['contact-fax']\n",
    "    del element['properties']['wikipedia']\n",
    "    del element['type']\n",
    "    element['@type']='hospital'\n",
    "    element['place']='hospital'\n",
    "    element['geometry']['lat']= element['geometry']['coordinates'][0]\n",
    "    element['geometry']['long'] = element['geometry']['coordinates'][1]\n",
    "    del element['geometry']['coordinates']\n",
    "del data_hospital['totalFeatures']\n",
    "del data_hospital['numberMatched']\n",
    "del data_hospital['numberReturned']\n",
    "del data_hospital['timeStamp']\n",
    "del data_hospital['crs']\n",
    "del data_hospital['bbox']\n",
    "    \n",
    "#data_hospital\n",
    "\n"
   ]
  },
  {
   "cell_type": "code",
   "execution_count": 246,
   "metadata": {},
   "outputs": [],
   "source": [
    "data_hospital={\n",
    "    \"@context\":{\n",
    "        \"@vocab\": \"http://schema.org/\", \n",
    "\t\t\"@base\": \"http://data.org/\", \n",
    "\t\t\"name\": \"name\", \n",
    "\t\t\"lat\": \"lat\", \n",
    "\t\t\"long\": \"long\",\n",
    "        \"place\":\"place\",\n",
    "    },\n",
    "    \"features\":[\n",
    "        data_hospital\n",
    "    ]\n",
    "}"
   ]
  },
  {
   "cell_type": "code",
   "execution_count": 247,
   "metadata": {},
   "outputs": [],
   "source": [
    "import json \n",
    "with open('france_hospital_records.json', 'w') as fp:\n",
    "   json.dump(data_hospital, fp,ensure_ascii=False)"
   ]
  },
  {
   "cell_type": "code",
   "execution_count": null,
   "metadata": {},
   "outputs": [],
   "source": []
  }
 ],
 "metadata": {
  "kernelspec": {
   "display_name": "Python 3",
   "language": "python",
   "name": "python3"
  },
  "language_info": {
   "codemirror_mode": {
    "name": "ipython",
    "version": 3
   },
   "file_extension": ".py",
   "mimetype": "text/x-python",
   "name": "python",
   "nbconvert_exporter": "python",
   "pygments_lexer": "ipython3",
   "version": "3.9.2"
  }
 },
 "nbformat": 4,
 "nbformat_minor": 4
}
