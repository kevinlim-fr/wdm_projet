{
 "cells": [
  {
   "cell_type": "code",
   "execution_count": 2,
   "id": "innovative-speech",
   "metadata": {},
   "outputs": [],
   "source": [
    "import pandas as pd\n",
    "import re\n",
    "import numpy as np\n",
    "import math\n",
    "import sklearn\n",
    "import json\n",
    "np.seterr(all=\"ignore\")\n",
    "pd.set_option('display.max_columns', None)\n",
    "pd.set_option('display.max_rows', 100)\n",
    "# -*- coding: utf-8 -*-"
   ]
  },
  {
   "cell_type": "markdown",
   "id": "oriental-doctrine",
   "metadata": {},
   "source": [
    "### Hopitaux de Paris"
   ]
  },
  {
   "cell_type": "code",
   "execution_count": 8,
   "id": "minor-compound",
   "metadata": {},
   "outputs": [],
   "source": [
    "hopitaux_file = open(\"originalJSON/les_etablissements_hospitaliers_franciliens.json\",\"r\")\n",
    "hopitaux_file_json = json.load(hopitaux_file)"
   ]
  },
  {
   "cell_type": "code",
   "execution_count": 10,
   "id": "hearing-alignment",
   "metadata": {},
   "outputs": [],
   "source": [
    "#hopitaux_file_json"
   ]
  },
  {
   "cell_type": "code",
   "execution_count": null,
   "id": "active-compatibility",
   "metadata": {},
   "outputs": [],
   "source": [
    "paris_transports = pd.DataFrame()\n",
    "for i in range(len(paris_traports_array)):\n",
    "    \n",
    "    stop_name = paris_traports_array[i][\"fields\"][\"stop_name\"]\n",
    "    latitude = paris_traports_array[i][\"fields\"][\"stop_coordinates\"][0]\n",
    "    longitude = paris_traports_array[i][\"fields\"][\"stop_coordinates\"][1]\n",
    "    \n",
    "    list_to_append = [stop_name,latitude,longitude]\n",
    "    line_labels = ['stop_name'] + ['latitude'] + ['longitude']\n",
    "    dic = {line_labels[i]: list_to_append[i] for i in range(len(list_to_append))}   \n",
    "    paris_transports = paris_transports.append(dic,ignore_index=True)"
   ]
  },
  {
   "cell_type": "markdown",
   "id": "healthy-dakota",
   "metadata": {},
   "source": [
    "### Lyon Transports"
   ]
  },
  {
   "cell_type": "code",
   "execution_count": 6,
   "id": "narrative-wales",
   "metadata": {},
   "outputs": [],
   "source": [
    "lyon_transports_file = open(\"originalJSON/lyon_transports.json\",\"r\")\n",
    "lyon_transports_json = json.load(lyon_transports_file)"
   ]
  },
  {
   "cell_type": "code",
   "execution_count": null,
   "id": "failing-district",
   "metadata": {},
   "outputs": [],
   "source": []
  },
  {
   "cell_type": "code",
   "execution_count": null,
   "id": "heavy-demand",
   "metadata": {},
   "outputs": [],
   "source": [
    "paris_transports = pd.DataFrame()\n",
    "for i in range(len(paris_traports_array)):\n",
    "    \n",
    "    stop_name = paris_traports_array[i][\"fields\"][\"stop_name\"]\n",
    "    latitude = paris_traports_array[i][\"fields\"][\"stop_coordinates\"][0]\n",
    "    longitude = paris_traports_array[i][\"fields\"][\"stop_coordinates\"][1]\n",
    "    \n",
    "    list_to_append = [stop_name,latitude,longitude]\n",
    "    line_labels = ['stop_name'] + ['latitude'] + ['longitude']\n",
    "    dic = {line_labels[i]: list_to_append[i] for i in range(len(list_to_append))}   \n",
    "    paris_transports = paris_transports.append(dic,ignore_index=True)"
   ]
  },
  {
   "cell_type": "markdown",
   "id": "senior-porcelain",
   "metadata": {},
   "source": [
    "### Lyon Velos"
   ]
  },
  {
   "cell_type": "code",
   "execution_count": 4,
   "id": "twelve-cyprus",
   "metadata": {},
   "outputs": [],
   "source": [
    "lyon_velos_file = open(\"originalJSON/lyon_velos.json\",\"r\")\n",
    "lyon_velos_json= json.load(lyon_velos_file)"
   ]
  },
  {
   "cell_type": "code",
   "execution_count": null,
   "id": "perceived-orbit",
   "metadata": {},
   "outputs": [],
   "source": [
    "paris_transports = pd.DataFrame()\n",
    "for i in range(len(paris_traports_array)):\n",
    "    \n",
    "    stop_name = paris_traports_array[i][\"fields\"][\"stop_name\"]\n",
    "    latitude = paris_traports_array[i][\"fields\"][\"stop_coordinates\"][0]\n",
    "    longitude = paris_traports_array[i][\"fields\"][\"stop_coordinates\"][1]\n",
    "    \n",
    "    list_to_append = [stop_name,latitude,longitude]\n",
    "    line_labels = ['stop_name'] + ['latitude'] + ['longitude']\n",
    "    dic = {line_labels[i]: list_to_append[i] for i in range(len(list_to_append))}   \n",
    "    paris_transports = paris_transports.append(dic,ignore_index=True)"
   ]
  },
  {
   "cell_type": "code",
   "execution_count": null,
   "id": "through-filling",
   "metadata": {},
   "outputs": [],
   "source": [
    "paris_transports = pd.DataFrame()\n",
    "for i in range(len(paris_traports_array)):\n",
    "    \n",
    "    stop_name = paris_traports_array[i][\"fields\"][\"stop_name\"]\n",
    "    latitude = paris_traports_array[i][\"fields\"][\"stop_coordinates\"][0]\n",
    "    longitude = paris_traports_array[i][\"fields\"][\"stop_coordinates\"][1]\n",
    "    \n",
    "    list_to_append = [stop_name,latitude,longitude]\n",
    "    line_labels = ['stop_name'] + ['latitude'] + ['longitude']\n",
    "    dic = {line_labels[i]: list_to_append[i] for i in range(len(list_to_append))}   \n",
    "    paris_transports = paris_transports.append(dic,ignore_index=True)"
   ]
  },
  {
   "cell_type": "code",
   "execution_count": null,
   "id": "adjacent-transmission",
   "metadata": {},
   "outputs": [],
   "source": []
  }
 ],
 "metadata": {
  "kernelspec": {
   "display_name": "Python 3",
   "language": "python",
   "name": "python3"
  },
  "language_info": {
   "codemirror_mode": {
    "name": "ipython",
    "version": 3
   },
   "file_extension": ".py",
   "mimetype": "text/x-python",
   "name": "python",
   "nbconvert_exporter": "python",
   "pygments_lexer": "ipython3",
   "version": "3.9.2"
  }
 },
 "nbformat": 4,
 "nbformat_minor": 5
}
