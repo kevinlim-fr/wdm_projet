{
 "cells": [
  {
   "cell_type": "code",
   "execution_count": 5,
   "metadata": {},
   "outputs": [],
   "source": [
    "import requests\n",
    "import math\n",
    "import pandas as pd\n",
    "import urllib"
   ]
  },
  {
   "cell_type": "markdown",
   "metadata": {},
   "source": [
    "# Saisie manuelle de l'adresse et du radius"
   ]
  },
  {
   "cell_type": "code",
   "execution_count": null,
   "metadata": {},
   "outputs": [],
   "source": [
    "adresse = input(\"Veuillez saisir une adresse comlète.ex: 10 rue de Paris Paris 75001 \\n\").replace(\" \",\"+\")\n",
    "lat, lon = getCoordinates(adresse)\n",
    "radius_km = int(input(\"Saisir la portée en km\"))\n",
    "resultat = requete(adresse,radius_km)\n",
    "resultat"
   ]
  },
  {
   "cell_type": "markdown",
   "metadata": {},
   "source": [
    "### Exemple Liste des stations de vélos 10 km autour de la mairie de Lyon"
   ]
  },
  {
   "cell_type": "code",
   "execution_count": 405,
   "metadata": {},
   "outputs": [
    {
     "name": "stdout",
     "output_type": "stream",
     "text": [
      "                         name    place ville                  lat  \\\n",
      "0     Croix Rousse / Perfetti  station  Lyon  45.77225384153049e0   \n",
      "1        Gambetta / Garibaldi  station  Lyon  45.75179013554747e0   \n",
      "2                Perrache Est  station  Lyon  45.74610307357447e0   \n",
      "3           Perrache / Carnot  station  Lyon  45.75009964332607e0   \n",
      "4                    Tabareau  station  Lyon  45.77408067053439e0   \n",
      "..                        ...      ...   ...                  ...   \n",
      "169         Créqui / Voltaire  station  Lyon  45.75669834417519e0   \n",
      "170      Guillotière / Veyron  station  Lyon   45.7479327825068e0   \n",
      "171             Gorge de Loup  station  Lyon  45.76736547851909e0   \n",
      "172  Place Ennemond Fousseret  station  Lyon  45.76468150567123e0   \n",
      "173    Garibaldi / Pensionnat  station  Lyon  45.75470656424962e0   \n",
      "\n",
      "                     lon  \n",
      "0    4.819460862010004e0  \n",
      "1    4.852607966008752e0  \n",
      "2    4.825605393944585e0  \n",
      "3    4.828051501355155e0  \n",
      "4    4.825159712198364e0  \n",
      "..                   ...  \n",
      "169  4.848403485755715e0  \n",
      "170  4.856337181809767e0  \n",
      "171  4.805627699519277e0  \n",
      "172  4.828983326522516e0  \n",
      "173  4.853404447409928e0  \n",
      "\n",
      "[174 rows x 5 columns]\n"
     ]
    }
   ],
   "source": [
    "adresse = \"19 Quai Tilsitt, 69002 Lyon\"\n",
    "radius_km = 2\n",
    "resultat = requete(adresse,radius_km)\n",
    "resultat"
   ]
  },
  {
   "cell_type": "markdown",
   "metadata": {},
   "source": [
    "### Exemple Liste des stations de vélos 10 km autour de la mairie de Rennes"
   ]
  },
  {
   "cell_type": "code",
   "execution_count": 406,
   "metadata": {},
   "outputs": [
    {
     "name": "stdout",
     "output_type": "stream",
     "text": [
      "                           name    place   ville          lat          lon\n",
      "0              Musée Beaux-Arts  station  Rennes  48.109601e0   -1.67408e0\n",
      "1                 Champs Libres  station  Rennes  48.105537e0  -1.674328e0\n",
      "2                Brest - Verdun  station  Rennes  48.113009e0  -1.693264e0\n",
      "3                       Marbeuf  station  Rennes  48.111749e0  -1.702077e0\n",
      "4                Plaine de Baud  station  Rennes  48.112461e0  -1.643674e0\n",
      "5                    Gros-Chêne  station  Rennes  48.126795e0  -1.665101e0\n",
      "6                      Painlevé  station  Rennes  48.123506e0  -1.659762e0\n",
      "7  Joliot-Curie - Chateaubriand  station  Rennes  48.124389e0  -1.651203e0\n",
      "8                    La Poterie  station  Rennes  48.087282e0  -1.644121e0\n",
      "9            Pont de Strasbourg  station  Rennes  48.109859e0  -1.656028e0\n"
     ]
    }
   ],
   "source": [
    "adresse = \"17 Bis Rue de la Monnaie, 35000 Rennes\"\n",
    "radius_km = 10\n",
    "resultat = requete(adresse,radius_km)\n",
    "resultat"
   ]
  },
  {
   "cell_type": "markdown",
   "metadata": {},
   "source": [
    "### Exemple Liste des stations de vélos 10 km autour de la mairie de Lyon"
   ]
  },
  {
   "cell_type": "code",
   "execution_count": 407,
   "metadata": {},
   "outputs": [
    {
     "name": "stdout",
     "output_type": "stream",
     "text": [
      "                 name     place  ville              lat              lon\n",
      "0               LILLE  hospital  Lille  50.6465113784e0  3.08395241534e0\n",
      "1               LILLE  hospital  Lille  50.6202380916e0  3.07717927762e0\n",
      "2               LILLE  hospital  Lille  50.6339108151e0  3.03153623994e0\n",
      "3                LOOS  hospital  Lille  50.6105672954e0  3.00789073236e0\n",
      "4   VILLENEUVE D'ASCQ  hospital  Lille  50.6530104252e0  3.15218579198e0\n",
      "5       (LOMME) LILLE  hospital  Lille  50.6513947118e0   2.9731517883e0\n",
      "6          HAUBOURDIN  hospital  Lille  50.6130128507e0  2.98673462341e0\n",
      "7              SECLIN  hospital  Lille  50.5466414558e0  3.01781005107e0\n",
      "8             LESQUIN  hospital  Lille  50.5888971553e0  3.08948682714e0\n",
      "9    MARCQ-EN-BAROEUL  hospital  Lille   50.666496025e0  3.10155008906e0\n",
      "10      (LOMME) LILLE  hospital  Lille   50.653891345e0   2.9923404297e0\n",
      "11              LILLE  hospital  Lille  50.6491473003e0  3.08549912212e0\n",
      "12              LILLE  hospital  Lille  50.6086696715e0  3.03596840781e0\n"
     ]
    }
   ],
   "source": [
    "adresse = \"9 Rue Lavoisier Lille 59800 Lille\"\n",
    "radius_km = 10\n",
    "resultat = requete(adresse,radius_km)\n",
    "resultat"
   ]
  },
  {
   "cell_type": "code",
   "execution_count": 403,
   "metadata": {},
   "outputs": [],
   "source": [
    "def getCoordinates(adresse):\n",
    "    adresse = adresse.replace(\" \",\"+\")\n",
    "    requete = \"https://api-adresse.data.gouv.fr/search/?q=\"+adresse\n",
    "    response = requests.get(requete)\n",
    "    json = response.json()\n",
    "    lat = json[\"features\"][0][\"geometry\"][\"coordinates\"][1]\n",
    "    lon = json[\"features\"][0][\"geometry\"][\"coordinates\"][0]\n",
    "    return lat,lon"
   ]
  },
  {
   "cell_type": "code",
   "execution_count": null,
   "metadata": {},
   "outputs": [],
   "source": [
    "def convRadiusKM(radius_km):\n",
    "    return math.pow(radius_km/111.1949,2)"
   ]
  },
  {
   "cell_type": "code",
   "execution_count": 404,
   "metadata": {},
   "outputs": [],
   "source": [
    "def requete(adresse,radius):\n",
    "    lat, lon = getCoordinates(adresse)\n",
    "    radius_degree = convRadiusKM(radius_km)\n",
    "    phi = round(lat)\n",
    "    val1 = math.cos(phi)*math.sin(phi)* math.pi/180\n",
    "    val2 = math.cos(phi)*(math.cos(phi) - math.sin(phi)* math.pi/180 * (lat-2*phi))\n",
    "    \n",
    "    # Lyon Velos\n",
    "    PREFIX = \"PREFIX ns: <http://schema.org/> \"\\\n",
    "        + \"PREFIX rdf: <http://www.w3.org/1999/02/22-rdf-syntax-ns#> \"\\\n",
    "        + \"PREFIX rdfs:<http://www.w3.org/2001/XMLSchema#> \"\\\n",
    "        + \"PREFIX owl: <http://www.owl-ontologies.com/unnamed.owl#> \"\n",
    "    \n",
    "    FILTER = \"FILTER ((\"+str(lat)+\"-?lat)*(\"+str(lat)+\"-?lat) + (\"+str(lon)+\"-?long)*(\"+str(lon)+\"-?long)* \" \\\n",
    "    \"(\"+str(val2)+\"-(\"+str(val1)+\"*?lat)) < \"+str(radius_degree)+\")}\"\n",
    "    \n",
    "    requete = \"SELECT ?ville ?name ?available_bikes ?available_bikes_stands ?bike_stands ?lat ?long ?place WHERE { \" \\\n",
    "    \"?station rdf:type ns:station . ?station ns:name ?name . ?station ns:ville ?ville . ?station ns:available_bikes ?available_bikes . \"  \\\n",
    "    \"?station ns:available_bikes_stands ?available_bikes_stands . ?station ns:long ?long . ?station ns:lat ?lat . ?station ns:place ?place . \"\n",
    "    sparql_query1 = PREFIX + requete + FILTER\n",
    "    #print(sparql_query1)\n",
    "    sparql_query1 = urllib.parse.quote(sparql_query1, safe='')\n",
    "    url1 = \"http://localhost:3030/db/sparql?query=\"+sparql_query1\n",
    "    #print(url1)\n",
    "    response1 = requests.get(url1)\n",
    "    json1 = response1.json()\n",
    "    json1 = json1[\"results\"][\"bindings\"]\n",
    "    \n",
    "    requete1 = pd.DataFrame()\n",
    "    \n",
    "    for i in range(len(json1)):\n",
    "        name = json1[i][\"name\"][\"value\"] \n",
    "        ville = json1[i][\"ville\"][\"value\"]\n",
    "        lat = json1[i][\"lat\"][\"value\"]\n",
    "        lon = json1[i][\"long\"][\"value\"]\n",
    "        place = json1[i][\"place\"][\"value\"]\n",
    "        list_to_append = [name] + [ville] + [lat] + [lon] + [place]\n",
    "        line_labels = [\"name\"] + [\"ville\"] + [\"lat\"] + [\"lon\"] + [\"place\"]\n",
    "        dic1 = {line_labels[i]: list_to_append[i] for i in range(len(list_to_append))}\n",
    "        requete1 = requete1.append(dic1,ignore_index=True)\n",
    "    \n",
    "    if len(requete1)>1:\n",
    "        requete1 = requete1[[\"name\",\"place\",\"ville\",\"lat\",\"lon\"]]\n",
    "        print(requete1)\n",
    "    \n",
    "    \n",
    "    # Lille Hopitaux\n",
    "    PREFIX = \"PREFIX ns: <http://schema.org/> \" \\\n",
    "            \"PREFIX rdf: <http://www.w3.org/1999/02/22-rdf-syntax-ns#> \"\\\n",
    "            \"PREFIX rdfs:<http://www.w3.org/2001/XMLSchema#> \"\\\n",
    "            \"PREFIX owl: <http://www.owl-ontologies.com/unnamed.owl#> \"\n",
    "    \n",
    "    requete = \"SELECT ?commune ?place ?ville ?lat ?long \" \\\n",
    "                \"WHERE { ?hospital rdf:type ns:hospital . \"\\\n",
    "                \"?hospital ns:commune ?commune . \"\\\n",
    "                \"?hospital ns:ville ?ville . \"\\\n",
    "                \"?hospital ns:long ?long . \"\\\n",
    "                \"?hospital ns:lat ?lat . \"\\\n",
    "                \"?hospital ns:place ?place .\"\n",
    "    \n",
    "    sparql_query2 = PREFIX + requete + FILTER\n",
    "    #print(sparql_query2)\n",
    "    sparql_query2 = urllib.parse.quote(sparql_query2, safe='')\n",
    "    url2 = \"http://localhost:3030/db/sparql?query=\"+sparql_query2\n",
    "    response2 = requests.get(url2)\n",
    "    json2 = response2.json()\n",
    "    json2 = json2[\"results\"][\"bindings\"]\n",
    "    #print(json2)\n",
    "    requete2 = pd.DataFrame()\n",
    "    \n",
    "    for i in range(len(json2)):\n",
    "        name = json2[i][\"commune\"][\"value\"] \n",
    "        ville = json2[i][\"ville\"][\"value\"]\n",
    "        lat = json2[i][\"lat\"][\"value\"]\n",
    "        lon = json2[i][\"long\"][\"value\"]\n",
    "        place = json2[i][\"place\"][\"value\"]\n",
    "        list_to_append = [name] + [ville] + [lat] + [lon] + [place]\n",
    "        line_labels = [\"name\"] + [\"ville\"] + [\"lat\"] + [\"lon\"] + [\"place\"]\n",
    "        dic = {line_labels[i]: list_to_append[i] for i in range(len(list_to_append))}\n",
    "        requete2 = requete2.append(dic,ignore_index=True)\n",
    "    \n",
    "    if len(requete2)>1:\n",
    "        requete2 = requete2[[\"name\",\"place\",\"ville\",\"lat\",\"lon\"]]\n",
    "        print(requete2)\n",
    "    \n",
    "    # Rennes Velos\n",
    "    PREFIX = \"PREFIX ns: <http://schema.org/> \"\\\n",
    "    + \"PREFIX rdf: <http://www.w3.org/1999/02/22-rdf-syntax-ns#> \"\\\n",
    "    + \"PREFIX rdfs:<http://www.w3.org/2001/XMLSchema#> \"\\\n",
    "    + \"PREFIX owl: <http://www.owl-ontologies.com/unnamed.owl#> \"\n",
    "    \n",
    "    requete = \"SELECT ?nom ?place ?ville ?lat ?long \"\\\n",
    "    \"WHERE { ?station rdf:type ns:station . ?station ns:nom ?nom .\"\\\n",
    "    \" ?station ns:ville ?ville . ?station ns:long ?long .\"\\\n",
    "    \" ?station ns:lat ?lat .\" \\\n",
    "    \" ?station ns:place ?place .  \"\n",
    "    \n",
    "    sparql_query3 = PREFIX + requete + FILTER\n",
    "    #print(sparql_query3)\n",
    "    sparql_query3 = urllib.parse.quote(sparql_query3, safe='')\n",
    "    url3 = \"http://localhost:3030/db/sparql?query=\"+sparql_query3\n",
    "    response3 = requests.get(url3)\n",
    "    json3 = response3.json()\n",
    "    json3 = json3[\"results\"][\"bindings\"]\n",
    "    \n",
    "    requete3 = pd.DataFrame()\n",
    "    \n",
    "    for i in range(len(json3)):\n",
    "        name = json3[i][\"nom\"][\"value\"] \n",
    "        ville = json3[i][\"ville\"][\"value\"]\n",
    "        lat = json3[i][\"lat\"][\"value\"]\n",
    "        lon = json3[i][\"long\"][\"value\"]\n",
    "        place = json3[i][\"place\"][\"value\"]\n",
    "        list_to_append = [name] + [ville] + [lat] + [lon] + [place]\n",
    "        line_labels = [\"name\"] + [\"ville\"] + [\"lat\"] + [\"lon\"] + [\"place\"]\n",
    "        dic3 = {line_labels[i]: list_to_append[i] for i in range(len(list_to_append))}\n",
    "        requete3 = requete3.append(dic3,ignore_index=True)\n",
    "    \n",
    "    if len(requete3) >1:\n",
    "        requete3 = requete3[[\"name\",\"place\",\"ville\",\"lat\",\"lon\"]]\n",
    "        print(requete3)\n",
    "    "
   ]
  },
  {
   "cell_type": "code",
   "execution_count": null,
   "metadata": {},
   "outputs": [],
   "source": []
  }
 ],
 "metadata": {
  "kernelspec": {
   "display_name": "Python 3",
   "language": "python",
   "name": "python3"
  },
  "language_info": {
   "codemirror_mode": {
    "name": "ipython",
    "version": 3
   },
   "file_extension": ".py",
   "mimetype": "text/x-python",
   "name": "python",
   "nbconvert_exporter": "python",
   "pygments_lexer": "ipython3",
   "version": "3.8.3"
  }
 },
 "nbformat": 4,
 "nbformat_minor": 5
}
