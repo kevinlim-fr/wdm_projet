{
 "cells": [
  {
   "cell_type": "code",
   "execution_count": null,
   "id": "smaller-miami",
   "metadata": {},
   "outputs": [],
   "source": [
    "# https://pypi.org/project/requests/"
   ]
  },
  {
   "cell_type": "code",
   "execution_count": 5,
   "id": "juvenile-luxury",
   "metadata": {},
   "outputs": [],
   "source": [
    "import requests\n",
    "import math"
   ]
  },
  {
   "cell_type": "code",
   "execution_count": 189,
   "id": "fifteen-sensitivity",
   "metadata": {},
   "outputs": [],
   "source": [
    "def getCoordinates(adresse):\n",
    "    adresse = adresse.replace(\" \",\"+\")\n",
    "    requete = \"https://api-adresse.data.gouv.fr/search/?q=\"+adresse\n",
    "    response = requests.get(requete)\n",
    "    json = response.json()\n",
    "    lat = json[\"features\"][0][\"geometry\"][\"coordinates\"][1]\n",
    "    lon = json[\"features\"][0][\"geometry\"][\"coordinates\"][0]\n",
    "    return lat,lon"
   ]
  },
  {
   "cell_type": "code",
   "execution_count": 190,
   "id": "deadly-northwest",
   "metadata": {},
   "outputs": [],
   "source": [
    "def convRadiusKM(radius_km):\n",
    "    return math.pow(radius_km/111.1949,2)"
   ]
  },
  {
   "cell_type": "markdown",
   "id": "clear-behalf",
   "metadata": {},
   "source": [
    "# Main"
   ]
  },
  {
   "cell_type": "code",
   "execution_count": 192,
   "id": "delayed-munich",
   "metadata": {},
   "outputs": [
    {
     "name": "stdin",
     "output_type": "stream",
     "text": [
      "Veuillez saisir une adresse comlète.ex: 10 rue de Paris Paris 75001 \n",
      "  \n"
     ]
    },
    {
     "ename": "IndexError",
     "evalue": "list index out of range",
     "output_type": "error",
     "traceback": [
      "\u001b[0;31m---------------------------------------------------------------------------\u001b[0m",
      "\u001b[0;31mIndexError\u001b[0m                                Traceback (most recent call last)",
      "\u001b[0;32m<ipython-input-192-b166d9a6175e>\u001b[0m in \u001b[0;36m<module>\u001b[0;34m\u001b[0m\n\u001b[1;32m      1\u001b[0m \u001b[0madresse\u001b[0m \u001b[0;34m=\u001b[0m \u001b[0minput\u001b[0m\u001b[0;34m(\u001b[0m\u001b[0;34m\"Veuillez saisir une adresse comlète.ex: 10 rue de Paris Paris 75001 \\n\"\u001b[0m\u001b[0;34m)\u001b[0m\u001b[0;34m.\u001b[0m\u001b[0mreplace\u001b[0m\u001b[0;34m(\u001b[0m\u001b[0;34m\" \"\u001b[0m\u001b[0;34m,\u001b[0m\u001b[0;34m\"+\"\u001b[0m\u001b[0;34m)\u001b[0m\u001b[0;34m\u001b[0m\u001b[0;34m\u001b[0m\u001b[0m\n\u001b[0;32m----> 2\u001b[0;31m \u001b[0mlat\u001b[0m\u001b[0;34m,\u001b[0m \u001b[0mlon\u001b[0m \u001b[0;34m=\u001b[0m \u001b[0mgetCoordinates\u001b[0m\u001b[0;34m(\u001b[0m\u001b[0madresse\u001b[0m\u001b[0;34m)\u001b[0m\u001b[0;34m\u001b[0m\u001b[0;34m\u001b[0m\u001b[0m\n\u001b[0m\u001b[1;32m      3\u001b[0m \u001b[0mradius_km\u001b[0m \u001b[0;34m=\u001b[0m \u001b[0mint\u001b[0m\u001b[0;34m(\u001b[0m\u001b[0minput\u001b[0m\u001b[0;34m(\u001b[0m\u001b[0;34m\"Saisir la portée en km\"\u001b[0m\u001b[0;34m)\u001b[0m\u001b[0;34m)\u001b[0m\u001b[0;34m\u001b[0m\u001b[0;34m\u001b[0m\u001b[0m\n\u001b[1;32m      4\u001b[0m \u001b[0mradius_degree\u001b[0m \u001b[0;34m=\u001b[0m \u001b[0mconvRadiusKM\u001b[0m\u001b[0;34m(\u001b[0m\u001b[0mradius_km\u001b[0m\u001b[0;34m)\u001b[0m\u001b[0;34m\u001b[0m\u001b[0;34m\u001b[0m\u001b[0m\n",
      "\u001b[0;32m<ipython-input-189-81a3ff562c1a>\u001b[0m in \u001b[0;36mgetCoordinates\u001b[0;34m(adresse)\u001b[0m\n\u001b[1;32m      4\u001b[0m     \u001b[0mresponse\u001b[0m \u001b[0;34m=\u001b[0m \u001b[0mrequests\u001b[0m\u001b[0;34m.\u001b[0m\u001b[0mget\u001b[0m\u001b[0;34m(\u001b[0m\u001b[0mrequete\u001b[0m\u001b[0;34m)\u001b[0m\u001b[0;34m\u001b[0m\u001b[0;34m\u001b[0m\u001b[0m\n\u001b[1;32m      5\u001b[0m     \u001b[0mjson\u001b[0m \u001b[0;34m=\u001b[0m \u001b[0mresponse\u001b[0m\u001b[0;34m.\u001b[0m\u001b[0mjson\u001b[0m\u001b[0;34m(\u001b[0m\u001b[0;34m)\u001b[0m\u001b[0;34m\u001b[0m\u001b[0;34m\u001b[0m\u001b[0m\n\u001b[0;32m----> 6\u001b[0;31m     \u001b[0mlat\u001b[0m \u001b[0;34m=\u001b[0m \u001b[0mjson\u001b[0m\u001b[0;34m[\u001b[0m\u001b[0;34m\"features\"\u001b[0m\u001b[0;34m]\u001b[0m\u001b[0;34m[\u001b[0m\u001b[0;36m0\u001b[0m\u001b[0;34m]\u001b[0m\u001b[0;34m[\u001b[0m\u001b[0;34m\"geometry\"\u001b[0m\u001b[0;34m]\u001b[0m\u001b[0;34m[\u001b[0m\u001b[0;34m\"coordinates\"\u001b[0m\u001b[0;34m]\u001b[0m\u001b[0;34m[\u001b[0m\u001b[0;36m1\u001b[0m\u001b[0;34m]\u001b[0m\u001b[0;34m\u001b[0m\u001b[0;34m\u001b[0m\u001b[0m\n\u001b[0m\u001b[1;32m      7\u001b[0m     \u001b[0mlon\u001b[0m \u001b[0;34m=\u001b[0m \u001b[0mjson\u001b[0m\u001b[0;34m[\u001b[0m\u001b[0;34m\"features\"\u001b[0m\u001b[0;34m]\u001b[0m\u001b[0;34m[\u001b[0m\u001b[0;36m0\u001b[0m\u001b[0;34m]\u001b[0m\u001b[0;34m[\u001b[0m\u001b[0;34m\"geometry\"\u001b[0m\u001b[0;34m]\u001b[0m\u001b[0;34m[\u001b[0m\u001b[0;34m\"coordinates\"\u001b[0m\u001b[0;34m]\u001b[0m\u001b[0;34m[\u001b[0m\u001b[0;36m0\u001b[0m\u001b[0;34m]\u001b[0m\u001b[0;34m\u001b[0m\u001b[0;34m\u001b[0m\u001b[0m\n\u001b[1;32m      8\u001b[0m     \u001b[0;32mreturn\u001b[0m \u001b[0mlat\u001b[0m\u001b[0;34m,\u001b[0m\u001b[0mlon\u001b[0m\u001b[0;34m\u001b[0m\u001b[0;34m\u001b[0m\u001b[0m\n",
      "\u001b[0;31mIndexError\u001b[0m: list index out of range"
     ]
    }
   ],
   "source": [
    "adresse = input(\"Veuillez saisir une adresse comlète.ex: 10 rue de Paris Paris 75001 \\n\").replace(\" \",\"+\")\n",
    "lat, lon = getCoordinates(adresse)\n",
    "radius_km = int(input(\"Saisir la portée en km\"))\n",
    "radius_degree = convRadiusKM(radius_km)"
   ]
  },
  {
   "cell_type": "markdown",
   "id": "packed-table",
   "metadata": {},
   "source": [
    "### Testing"
   ]
  },
  {
   "cell_type": "code",
   "execution_count": 193,
   "id": "approximate-plymouth",
   "metadata": {},
   "outputs": [
    {
     "name": "stdout",
     "output_type": "stream",
     "text": [
      "0.00858342232004857\n",
      "0.8208332568911848\n"
     ]
    }
   ],
   "source": [
    "adresse = \"5 Rue de l'Horloge, 35000 Rennes\"\n",
    "lat, lon = getCoordinates(adresse)\n",
    "radius_km = 10\n",
    "radius_degree = convRadiusKM(radius_km)\n",
    "phi = round(lat)\n",
    "val1 = math.cos(phi)*math.sin(phi)* math.pi/180\n",
    "print(val1)\n",
    "val2 = math.cos(phi)*(math.cos(phi) - math.sin(phi)* math.pi/180 * (lat-2*phi))\n",
    "print(val2)"
   ]
  },
  {
   "cell_type": "markdown",
   "id": "sought-cylinder",
   "metadata": {},
   "source": [
    "### Query building"
   ]
  },
  {
   "cell_type": "code",
   "execution_count": 194,
   "id": "blank-liverpool",
   "metadata": {},
   "outputs": [],
   "source": [
    "PREFIX = \"PREFIX ns: <http://schema.org/> PREFIX rdf: <http://www.w3.org/1999/02/22-rdf-syntax-ns#>  PREFIX rdfs:<http://www.w3.org/2001/XMLSchema#> PREFIX owl: <http://www.owl-ontologies.com/unnamed.owl#>\""
   ]
  },
  {
   "cell_type": "code",
   "execution_count": 195,
   "id": "english-state",
   "metadata": {},
   "outputs": [],
   "source": [
    "FILTER = \"FILTER ((\"+str(lat)+\"-?lat)*(\"+str(lat)+\"-?lat) + (\"+str(lon)+\"-?long)*(\"+str(lon)+\"-?long)*(\"+str(val2)+\"-(\"+str(val1)+\"*?lat)) < \"+str(radius_degree)+\")}\""
   ]
  },
  {
   "cell_type": "code",
   "execution_count": 196,
   "id": "alive-flood",
   "metadata": {},
   "outputs": [],
   "source": [
    "requete = \"SELECT ?ville ?name ?available_bikes ?available_bikes_stands ?bike_stands ?lat ?long ?place WHERE { \" \\\n",
    "\"?station rdf:type ns:station . ?station ns:name ?name . ?station ns:ville ?ville . ?station ns:available_bikes ?available_bikes . \"  \\\n",
    "\"?station ns:available_bikes_stands ?available_bikes_stands . ?station ns:long ?long . ?station ns:lat ?lat . ?station ns:place ?place . \""
   ]
  },
  {
   "cell_type": "code",
   "execution_count": 197,
   "id": "gross-heaven",
   "metadata": {},
   "outputs": [],
   "source": [
    "sparql_query = PREFIX + requete + FILTER"
   ]
  },
  {
   "cell_type": "code",
   "execution_count": 198,
   "id": "economic-creek",
   "metadata": {},
   "outputs": [
    {
     "data": {
      "text/plain": [
       "'PREFIX ns: <http://schema.org/> PREFIX rdf: <http://www.w3.org/1999/02/22-rdf-syntax-ns#>  PREFIX rdfs:<http://www.w3.org/2001/XMLSchema#> PREFIX owl: <http://www.owl-ontologies.com/unnamed.owl#>SELECT ?ville ?name ?available_bikes ?available_bikes_stands ?bike_stands ?lat ?long ?place WHERE { ?station rdf:type ns:station . ?station ns:name ?name . ?station ns:ville ?ville . ?station ns:available_bikes ?available_bikes . ?station ns:available_bikes_stands ?available_bikes_stands . ?station ns:long ?long . ?station ns:lat ?lat . ?station ns:place ?place . FILTER ((48.111353-?lat)*(48.111353-?lat) + (-1.680345-?long)*(-1.680345-?long)*(0.8208332568911848-(0.00858342232004857*?lat)) < 0.008087797384722423)}'"
      ]
     },
     "execution_count": 198,
     "metadata": {},
     "output_type": "execute_result"
    }
   ],
   "source": [
    "sparql_query"
   ]
  },
  {
   "cell_type": "code",
   "execution_count": 199,
   "id": "plain-suffering",
   "metadata": {},
   "outputs": [],
   "source": [
    "import urllib\n"
   ]
  },
  {
   "cell_type": "markdown",
   "id": "prospective-arcade",
   "metadata": {},
   "source": [
    "resultat_json = response.json()"
   ]
  },
  {
   "cell_type": "code",
   "execution_count": 200,
   "id": "champion-privilege",
   "metadata": {},
   "outputs": [
    {
     "data": {
      "text/plain": [
       "{'head': {'vars': ['ville',\n",
       "   'name',\n",
       "   'available_bikes',\n",
       "   'available_bikes_stands',\n",
       "   'bike_stands',\n",
       "   'lat',\n",
       "   'long',\n",
       "   'place']},\n",
       " 'results': {'bindings': []}}"
      ]
     },
     "execution_count": 200,
     "metadata": {},
     "output_type": "execute_result"
    }
   ],
   "source": [
    "url = \"http://localhost:3030/db/sparql?query=\"+sparql_query\n",
    "response = requests.get(url)\n",
    "response.json()"
   ]
  },
  {
   "cell_type": "code",
   "execution_count": 201,
   "id": "elder-essay",
   "metadata": {},
   "outputs": [
    {
     "data": {
      "text/plain": [
       "'http://localhost:3030/db/sparql?query=PREFIX%20ns%3A%20%3Chttp%3A%2F%2Fschema.org%2F%3E%20PREFIX%20rdf%3A%20%3Chttp%3A%2F%2Fwww.w3.org%2F1999%2F02%2F22-rdf-syntax-ns%23%3E%20%20PREFIX%20rdfs%3A%3Chttp%3A%2F%2Fwww.w3.org%2F2001%2FXMLSchema%23%3E%20PREFIX%20owl%3A%20%3Chttp%3A%2F%2Fwww.owl-ontologies.com%2Funnamed.owl%23%3ESELECT%20%3Fville%20%3Fname%20%3Favailable_bikes%20%3Favailable_bikes_stands%20%3Fbike_stands%20%3Flat%20%3Flong%20%3Fplace%20WHERE%20%7B%20%3Fstation%20rdf%3Atype%20ns%3Astation%20.%20%3Fstation%20ns%3Aname%20%3Fname%20.%20%3Fstation%20ns%3Aville%20%3Fville%20.%20%3Fstation%20ns%3Aavailable_bikes%20%3Favailable_bikes%20.%20%3Fstation%20ns%3Aavailable_bikes_stands%20%3Favailable_bikes_stands%20.%20%3Fstation%20ns%3Along%20%3Flong%20.%20%3Fstation%20ns%3Alat%20%3Flat%20.%20%3Fstation%20ns%3Aplace%20%3Fplace%20.%20FILTER%20%28%2848.111353-%3Flat%29%2A%2848.111353-%3Flat%29%20%2B%20%28-1.680345-%3Flong%29%2A%28-1.680345-%3Flong%29%2A%280.8208332568911848-%280.00858342232004857%2A%3Flat%29%29%20%3C%200.008087797384722423%29%7D'"
      ]
     },
     "execution_count": 201,
     "metadata": {},
     "output_type": "execute_result"
    }
   ],
   "source": [
    "url"
   ]
  },
  {
   "cell_type": "code",
   "execution_count": 187,
   "id": "excess-signal",
   "metadata": {},
   "outputs": [],
   "source": [
    "# https://pypi.org/project/sparql-client/"
   ]
  },
  {
   "cell_type": "code",
   "execution_count": 188,
   "id": "annual-germany",
   "metadata": {},
   "outputs": [],
   "source": [
    "#cd /Library/Frameworks/Python.framework/Versions/3.9/lib/python3.9/site-packages "
   ]
  },
  {
   "cell_type": "code",
   "execution_count": 59,
   "id": "congressional-habitat",
   "metadata": {},
   "outputs": [],
   "source": [
    "resultat_json[\"results\"]"
   ]
  },
  {
   "cell_type": "markdown",
   "id": "weird-camel",
   "metadata": {},
   "source": [
    "### Exemple Liste des stations de vélos 10 km autour de la mairie de Lyon"
   ]
  },
  {
   "cell_type": "code",
   "execution_count": 280,
   "id": "ecological-creature",
   "metadata": {},
   "outputs": [],
   "source": [
    "import pandas as pd"
   ]
  },
  {
   "cell_type": "code",
   "execution_count": 281,
   "id": "natural-first",
   "metadata": {},
   "outputs": [
    {
     "data": {
      "text/html": [
       "<div>\n",
       "<style scoped>\n",
       "    .dataframe tbody tr th:only-of-type {\n",
       "        vertical-align: middle;\n",
       "    }\n",
       "\n",
       "    .dataframe tbody tr th {\n",
       "        vertical-align: top;\n",
       "    }\n",
       "\n",
       "    .dataframe thead th {\n",
       "        text-align: right;\n",
       "    }\n",
       "</style>\n",
       "<table border=\"1\" class=\"dataframe\">\n",
       "  <thead>\n",
       "    <tr style=\"text-align: right;\">\n",
       "      <th></th>\n",
       "      <th>name</th>\n",
       "      <th>place</th>\n",
       "      <th>ville</th>\n",
       "      <th>lat</th>\n",
       "      <th>lon</th>\n",
       "    </tr>\n",
       "  </thead>\n",
       "  <tbody>\n",
       "    <tr>\n",
       "      <th>0</th>\n",
       "      <td>Croix Rousse / Perfetti</td>\n",
       "      <td>station</td>\n",
       "      <td>Lyon</td>\n",
       "      <td>45.77225384153049e0</td>\n",
       "      <td>4.819460862010004e0</td>\n",
       "    </tr>\n",
       "    <tr>\n",
       "      <th>1</th>\n",
       "      <td>Gambetta / Garibaldi</td>\n",
       "      <td>station</td>\n",
       "      <td>Lyon</td>\n",
       "      <td>45.75179013554747e0</td>\n",
       "      <td>4.852607966008752e0</td>\n",
       "    </tr>\n",
       "    <tr>\n",
       "      <th>2</th>\n",
       "      <td>Perrache Est</td>\n",
       "      <td>station</td>\n",
       "      <td>Lyon</td>\n",
       "      <td>45.74610307357447e0</td>\n",
       "      <td>4.825605393944585e0</td>\n",
       "    </tr>\n",
       "    <tr>\n",
       "      <th>3</th>\n",
       "      <td>Perrache / Carnot</td>\n",
       "      <td>station</td>\n",
       "      <td>Lyon</td>\n",
       "      <td>45.75009964332607e0</td>\n",
       "      <td>4.828051501355155e0</td>\n",
       "    </tr>\n",
       "    <tr>\n",
       "      <th>4</th>\n",
       "      <td>Tabareau</td>\n",
       "      <td>station</td>\n",
       "      <td>Lyon</td>\n",
       "      <td>45.77408067053439e0</td>\n",
       "      <td>4.825159712198364e0</td>\n",
       "    </tr>\n",
       "    <tr>\n",
       "      <th>...</th>\n",
       "      <td>...</td>\n",
       "      <td>...</td>\n",
       "      <td>...</td>\n",
       "      <td>...</td>\n",
       "      <td>...</td>\n",
       "    </tr>\n",
       "    <tr>\n",
       "      <th>169</th>\n",
       "      <td>Créqui / Voltaire</td>\n",
       "      <td>station</td>\n",
       "      <td>Lyon</td>\n",
       "      <td>45.75669834417519e0</td>\n",
       "      <td>4.848403485755715e0</td>\n",
       "    </tr>\n",
       "    <tr>\n",
       "      <th>170</th>\n",
       "      <td>Guillotière / Veyron</td>\n",
       "      <td>station</td>\n",
       "      <td>Lyon</td>\n",
       "      <td>45.7479327825068e0</td>\n",
       "      <td>4.856337181809767e0</td>\n",
       "    </tr>\n",
       "    <tr>\n",
       "      <th>171</th>\n",
       "      <td>Gorge de Loup</td>\n",
       "      <td>station</td>\n",
       "      <td>Lyon</td>\n",
       "      <td>45.76736547851909e0</td>\n",
       "      <td>4.805627699519277e0</td>\n",
       "    </tr>\n",
       "    <tr>\n",
       "      <th>172</th>\n",
       "      <td>Place Ennemond Fousseret</td>\n",
       "      <td>station</td>\n",
       "      <td>Lyon</td>\n",
       "      <td>45.76468150567123e0</td>\n",
       "      <td>4.828983326522516e0</td>\n",
       "    </tr>\n",
       "    <tr>\n",
       "      <th>173</th>\n",
       "      <td>Garibaldi / Pensionnat</td>\n",
       "      <td>station</td>\n",
       "      <td>Lyon</td>\n",
       "      <td>45.75470656424962e0</td>\n",
       "      <td>4.853404447409928e0</td>\n",
       "    </tr>\n",
       "  </tbody>\n",
       "</table>\n",
       "<p>174 rows × 5 columns</p>\n",
       "</div>"
      ],
      "text/plain": [
       "                         name    place ville                  lat  \\\n",
       "0     Croix Rousse / Perfetti  station  Lyon  45.77225384153049e0   \n",
       "1        Gambetta / Garibaldi  station  Lyon  45.75179013554747e0   \n",
       "2                Perrache Est  station  Lyon  45.74610307357447e0   \n",
       "3           Perrache / Carnot  station  Lyon  45.75009964332607e0   \n",
       "4                    Tabareau  station  Lyon  45.77408067053439e0   \n",
       "..                        ...      ...   ...                  ...   \n",
       "169         Créqui / Voltaire  station  Lyon  45.75669834417519e0   \n",
       "170      Guillotière / Veyron  station  Lyon   45.7479327825068e0   \n",
       "171             Gorge de Loup  station  Lyon  45.76736547851909e0   \n",
       "172  Place Ennemond Fousseret  station  Lyon  45.76468150567123e0   \n",
       "173    Garibaldi / Pensionnat  station  Lyon  45.75470656424962e0   \n",
       "\n",
       "                     lon  \n",
       "0    4.819460862010004e0  \n",
       "1    4.852607966008752e0  \n",
       "2    4.825605393944585e0  \n",
       "3    4.828051501355155e0  \n",
       "4    4.825159712198364e0  \n",
       "..                   ...  \n",
       "169  4.848403485755715e0  \n",
       "170  4.856337181809767e0  \n",
       "171  4.805627699519277e0  \n",
       "172  4.828983326522516e0  \n",
       "173  4.853404447409928e0  \n",
       "\n",
       "[174 rows x 5 columns]"
      ]
     },
     "execution_count": 281,
     "metadata": {},
     "output_type": "execute_result"
    }
   ],
   "source": [
    "adresse = \"19 Quai Tilsitt, 69002 Lyon\"\n",
    "radius_km = 2\n",
    "resultat = requete(adresse,radius_km)\n",
    "resultat"
   ]
  },
  {
   "cell_type": "code",
   "execution_count": 279,
   "id": "looking-shelter",
   "metadata": {},
   "outputs": [],
   "source": [
    "def requete(adresse,radius):\n",
    "    lat, lon = getCoordinates(adresse)\n",
    "    radius_degree = convRadiusKM(radius_km)\n",
    "    phi = round(lat)\n",
    "    val1 = math.cos(phi)*math.sin(phi)* math.pi/180\n",
    "    val2 = math.cos(phi)*(math.cos(phi) - math.sin(phi)* math.pi/180 * (lat-2*phi))\n",
    "    \n",
    "    # Lyon Velos\n",
    "    PREFIX = \"PREFIX ns: <http://schema.org/> PREFIX rdf: <http://www.w3.org/1999/02/22-rdf-syntax-ns#>\" \\\n",
    "    \"  PREFIX rdfs:<http://www.w3.org/2001/XMLSchema#> PREFIX owl: <http://www.owl-ontologies.com/unnamed.owl#>\"\n",
    "    \n",
    "    FILTER = \"FILTER ((\"+str(lat)+\"-?lat)*(\"+str(lat)+\"-?lat) + (\"+str(lon)+\"-?long)*(\"+str(lon)+\"-?long)* \" \\\n",
    "    \"(\"+str(val2)+\"-(\"+str(val1)+\"*?lat)) < \"+str(radius_degree)+\")}\"\n",
    "    \n",
    "    requete = \"SELECT ?ville ?name ?available_bikes ?available_bikes_stands ?bike_stands ?lat ?long ?place WHERE { \" \\\n",
    "    \"?station rdf:type ns:station . ?station ns:name ?name . ?station ns:ville ?ville . ?station ns:available_bikes ?available_bikes . \"  \\\n",
    "    \"?station ns:available_bikes_stands ?available_bikes_stands . ?station ns:long ?long . ?station ns:lat ?lat . ?station ns:place ?place . \"\n",
    "    sparql_query = PREFIX + requete + FILTER\n",
    "    #print(sparql_query)\n",
    "    sparql_query = urllib.parse.quote(sparql_query, safe='')\n",
    "    url = \"http://localhost:3030/db/sparql?query=\"+sparql_query\n",
    "    response = requests.get(url)\n",
    "    json = response.json()\n",
    "    json = json[\"results\"][\"bindings\"]\n",
    "    df = pd.DataFrame()\n",
    "    \n",
    "    for i in range(len(json)):\n",
    "        name = json[i][\"name\"][\"value\"] \n",
    "        ville = json[i][\"ville\"][\"value\"]\n",
    "        lat = json[i][\"lat\"][\"value\"]\n",
    "        lon = json[i][\"long\"][\"value\"]\n",
    "        place = json[i][\"place\"][\"value\"]\n",
    "        list_to_append = [name] + [ville] + [lat] + [lon] + [place]\n",
    "        line_labels = [\"name\"] + [\"ville\"] + [\"lat\"] + [\"lon\"] + [\"place\"]\n",
    "        dic = {line_labels[i]: list_to_append[i] for i in range(len(list_to_append))}\n",
    "        df = df.append(dic,ignore_index=True)\n",
    "    \n",
    "    df = df [[\"name\",\"place\",\"ville\",\"lat\",\"lon\"]]\n",
    "    return df"
   ]
  },
  {
   "cell_type": "code",
   "execution_count": null,
   "id": "polished-polish",
   "metadata": {},
   "outputs": [],
   "source": [
    "PREFIX ns: <http://schema.org/>\n",
    "PREFIX rdf: <http://www.w3.org/1999/02/22-rdf-syntax-ns#> \n",
    "PREFIX rdfs:<http://www.w3.org/2001/XMLSchema#>\n",
    "PREFIX owl: <http://www.owl-ontologies.com/unnamed.owl#>\n",
    "\n",
    "SELECT ?ville ?lat ?long ?place\n",
    "WHERE {\n",
    "\t ?hospital rdf:type ns:hospital .\n",
    "  \t?hospital ns:ville ?ville .\t\n",
    "  \t?hospital ns:long ?long .\n",
    "  \t?hospital ns:lat ?lat .\n",
    "  \t?hospital ns:place ?place .\n",
    "  \tFILTER(?ville=\"Lille\") .\n",
    "}"
   ]
  }
 ],
 "metadata": {
  "kernelspec": {
   "display_name": "Python 3",
   "language": "python",
   "name": "python3"
  },
  "language_info": {
   "codemirror_mode": {
    "name": "ipython",
    "version": 3
   },
   "file_extension": ".py",
   "mimetype": "text/x-python",
   "name": "python",
   "nbconvert_exporter": "python",
   "pygments_lexer": "ipython3",
   "version": "3.9.2"
  }
 },
 "nbformat": 4,
 "nbformat_minor": 5
}
